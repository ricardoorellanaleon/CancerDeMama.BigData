{
  "nbformat": 4,
  "nbformat_minor": 0,
  "metadata": {
    "colab": {
      "name": "ModelosPrediccion_CancerMama.ipynb",
      "provenance": []
    },
    "kernelspec": {
      "name": "python3",
      "display_name": "Python 3"
    },
    "language_info": {
      "name": "python"
    }
  },
  "cells": [
    {
      "cell_type": "markdown",
      "metadata": {
        "id": "N6W6oH0dNIoh"
      },
      "source": [
        "#<font color=\"red\"><u>**MODELOS PARA LA PREDICCION DEL CANCER DE MAMA**</u></font>"
      ]
    },
    {
      "cell_type": "markdown",
      "metadata": {
        "id": "K0b4BXaYVBkP"
      },
      "source": [
        "instalar biblioteca para aprendizaje automático (sklearn)"
      ]
    },
    {
      "cell_type": "code",
      "metadata": {
        "colab": {
          "base_uri": "https://localhost:8080/"
        },
        "id": "rVrPSpxZPaYe",
        "outputId": "72685cf8-70c6-4027-ea15-09f2313d4805"
      },
      "source": [
        "!pip install sklearn"
      ],
      "execution_count": null,
      "outputs": [
        {
          "output_type": "stream",
          "name": "stdout",
          "text": [
            "Requirement already satisfied: sklearn in /usr/local/lib/python3.7/dist-packages (0.0)\n",
            "Requirement already satisfied: scikit-learn in /usr/local/lib/python3.7/dist-packages (from sklearn) (1.0.1)\n",
            "Requirement already satisfied: numpy>=1.14.6 in /usr/local/lib/python3.7/dist-packages (from scikit-learn->sklearn) (1.19.5)\n",
            "Requirement already satisfied: scipy>=1.1.0 in /usr/local/lib/python3.7/dist-packages (from scikit-learn->sklearn) (1.4.1)\n",
            "Requirement already satisfied: threadpoolctl>=2.0.0 in /usr/local/lib/python3.7/dist-packages (from scikit-learn->sklearn) (3.0.0)\n",
            "Requirement already satisfied: joblib>=0.11 in /usr/local/lib/python3.7/dist-packages (from scikit-learn->sklearn) (1.1.0)\n"
          ]
        }
      ]
    },
    {
      "cell_type": "markdown",
      "metadata": {
        "id": "31PJ_yyzPtAR"
      },
      "source": [
        "Importaciones de librerias"
      ]
    },
    {
      "cell_type": "code",
      "metadata": {
        "id": "rtO3Hg4ePxy_"
      },
      "source": [
        "import numpy as np\n",
        "import matplotlib.pyplot as plt\n",
        "import pandas as pd"
      ],
      "execution_count": null,
      "outputs": []
    },
    {
      "cell_type": "markdown",
      "metadata": {
        "id": "OkaQq1L4QXw3"
      },
      "source": [
        "Leer el dataset sobre la Predicción del cancer de mama"
      ]
    },
    {
      "cell_type": "code",
      "metadata": {
        "colab": {
          "base_uri": "https://localhost:8080/",
          "height": 461
        },
        "id": "X4Xm-a5fQf8v",
        "outputId": "2be02639-e0c3-4fe2-8068-4c23d4961085"
      },
      "source": [
        "dataset =pd.read_excel(r'DiagnosticoCancerMama-OrellanaLeonRicardo.xlsx')\n",
        "dataset"
      ],
      "execution_count": null,
      "outputs": [
        {
          "output_type": "execute_result",
          "data": {
            "text/html": [
              "<div>\n",
              "<style scoped>\n",
              "    .dataframe tbody tr th:only-of-type {\n",
              "        vertical-align: middle;\n",
              "    }\n",
              "\n",
              "    .dataframe tbody tr th {\n",
              "        vertical-align: top;\n",
              "    }\n",
              "\n",
              "    .dataframe thead th {\n",
              "        text-align: right;\n",
              "    }\n",
              "</style>\n",
              "<table border=\"1\" class=\"dataframe\">\n",
              "  <thead>\n",
              "    <tr style=\"text-align: right;\">\n",
              "      <th></th>\n",
              "      <th>id</th>\n",
              "      <th>radius_mean</th>\n",
              "      <th>texture_mean</th>\n",
              "      <th>perimeter_mean</th>\n",
              "      <th>area_mean</th>\n",
              "      <th>smoothness_mean</th>\n",
              "      <th>compactness_mean</th>\n",
              "      <th>concavity_mean</th>\n",
              "      <th>concave points_mean</th>\n",
              "      <th>symmetry_mean</th>\n",
              "      <th>fractal_dimension_mean</th>\n",
              "      <th>radius_se</th>\n",
              "      <th>texture_se</th>\n",
              "      <th>perimeter_se</th>\n",
              "      <th>area_se</th>\n",
              "      <th>smoothness_se</th>\n",
              "      <th>compactness_se</th>\n",
              "      <th>concavity_se</th>\n",
              "      <th>concave points_se</th>\n",
              "      <th>symmetry_se</th>\n",
              "      <th>fractal_dimension_se</th>\n",
              "      <th>radius_worst</th>\n",
              "      <th>texture_worst</th>\n",
              "      <th>perimeter_worst</th>\n",
              "      <th>area_worst</th>\n",
              "      <th>smoothness_worst</th>\n",
              "      <th>compactness_worst</th>\n",
              "      <th>concavity_worst</th>\n",
              "      <th>concave points_worst</th>\n",
              "      <th>symmetry_worst</th>\n",
              "      <th>fractal_dimension_worst</th>\n",
              "      <th>diagnosis</th>\n",
              "    </tr>\n",
              "  </thead>\n",
              "  <tbody>\n",
              "    <tr>\n",
              "      <th>0</th>\n",
              "      <td>842302</td>\n",
              "      <td>17.99</td>\n",
              "      <td>10.38</td>\n",
              "      <td>122.80</td>\n",
              "      <td>1001.0</td>\n",
              "      <td>0.11840</td>\n",
              "      <td>0.27760</td>\n",
              "      <td>0.30010</td>\n",
              "      <td>0.14710</td>\n",
              "      <td>0.2419</td>\n",
              "      <td>0.07871</td>\n",
              "      <td>1.0950</td>\n",
              "      <td>0.9053</td>\n",
              "      <td>8.589</td>\n",
              "      <td>153.40</td>\n",
              "      <td>0.006399</td>\n",
              "      <td>0.04904</td>\n",
              "      <td>0.05373</td>\n",
              "      <td>0.01587</td>\n",
              "      <td>0.03003</td>\n",
              "      <td>0.006193</td>\n",
              "      <td>25.380</td>\n",
              "      <td>17.33</td>\n",
              "      <td>184.60</td>\n",
              "      <td>2019.0</td>\n",
              "      <td>0.16220</td>\n",
              "      <td>0.66560</td>\n",
              "      <td>0.7119</td>\n",
              "      <td>0.2654</td>\n",
              "      <td>0.4601</td>\n",
              "      <td>0.11890</td>\n",
              "      <td>Maligno</td>\n",
              "    </tr>\n",
              "    <tr>\n",
              "      <th>1</th>\n",
              "      <td>842517</td>\n",
              "      <td>20.57</td>\n",
              "      <td>17.77</td>\n",
              "      <td>132.90</td>\n",
              "      <td>1326.0</td>\n",
              "      <td>0.08474</td>\n",
              "      <td>0.07864</td>\n",
              "      <td>0.08690</td>\n",
              "      <td>0.07017</td>\n",
              "      <td>0.1812</td>\n",
              "      <td>0.05667</td>\n",
              "      <td>0.5435</td>\n",
              "      <td>0.7339</td>\n",
              "      <td>3.398</td>\n",
              "      <td>74.08</td>\n",
              "      <td>0.005225</td>\n",
              "      <td>0.01308</td>\n",
              "      <td>0.01860</td>\n",
              "      <td>0.01340</td>\n",
              "      <td>0.01389</td>\n",
              "      <td>0.003532</td>\n",
              "      <td>24.990</td>\n",
              "      <td>23.41</td>\n",
              "      <td>158.80</td>\n",
              "      <td>1956.0</td>\n",
              "      <td>0.12380</td>\n",
              "      <td>0.18660</td>\n",
              "      <td>0.2416</td>\n",
              "      <td>0.1860</td>\n",
              "      <td>0.2750</td>\n",
              "      <td>0.08902</td>\n",
              "      <td>Maligno</td>\n",
              "    </tr>\n",
              "    <tr>\n",
              "      <th>2</th>\n",
              "      <td>84300903</td>\n",
              "      <td>19.69</td>\n",
              "      <td>21.25</td>\n",
              "      <td>130.00</td>\n",
              "      <td>1203.0</td>\n",
              "      <td>0.10960</td>\n",
              "      <td>0.15990</td>\n",
              "      <td>0.19740</td>\n",
              "      <td>0.12790</td>\n",
              "      <td>0.2069</td>\n",
              "      <td>0.05999</td>\n",
              "      <td>0.7456</td>\n",
              "      <td>0.7869</td>\n",
              "      <td>4.585</td>\n",
              "      <td>94.03</td>\n",
              "      <td>0.006150</td>\n",
              "      <td>0.04006</td>\n",
              "      <td>0.03832</td>\n",
              "      <td>0.02058</td>\n",
              "      <td>0.02250</td>\n",
              "      <td>0.004571</td>\n",
              "      <td>23.570</td>\n",
              "      <td>25.53</td>\n",
              "      <td>152.50</td>\n",
              "      <td>1709.0</td>\n",
              "      <td>0.14440</td>\n",
              "      <td>0.42450</td>\n",
              "      <td>0.4504</td>\n",
              "      <td>0.2430</td>\n",
              "      <td>0.3613</td>\n",
              "      <td>0.08758</td>\n",
              "      <td>Maligno</td>\n",
              "    </tr>\n",
              "    <tr>\n",
              "      <th>3</th>\n",
              "      <td>84348301</td>\n",
              "      <td>11.42</td>\n",
              "      <td>20.38</td>\n",
              "      <td>77.58</td>\n",
              "      <td>386.1</td>\n",
              "      <td>0.14250</td>\n",
              "      <td>0.28390</td>\n",
              "      <td>0.24140</td>\n",
              "      <td>0.10520</td>\n",
              "      <td>0.2597</td>\n",
              "      <td>0.09744</td>\n",
              "      <td>0.4956</td>\n",
              "      <td>1.1560</td>\n",
              "      <td>3.445</td>\n",
              "      <td>27.23</td>\n",
              "      <td>0.009110</td>\n",
              "      <td>0.07458</td>\n",
              "      <td>0.05661</td>\n",
              "      <td>0.01867</td>\n",
              "      <td>0.05963</td>\n",
              "      <td>0.009208</td>\n",
              "      <td>14.910</td>\n",
              "      <td>26.50</td>\n",
              "      <td>98.87</td>\n",
              "      <td>567.7</td>\n",
              "      <td>0.20980</td>\n",
              "      <td>0.86630</td>\n",
              "      <td>0.6869</td>\n",
              "      <td>0.2575</td>\n",
              "      <td>0.6638</td>\n",
              "      <td>0.17300</td>\n",
              "      <td>Maligno</td>\n",
              "    </tr>\n",
              "    <tr>\n",
              "      <th>4</th>\n",
              "      <td>84358402</td>\n",
              "      <td>20.29</td>\n",
              "      <td>14.34</td>\n",
              "      <td>135.10</td>\n",
              "      <td>1297.0</td>\n",
              "      <td>0.10030</td>\n",
              "      <td>0.13280</td>\n",
              "      <td>0.19800</td>\n",
              "      <td>0.10430</td>\n",
              "      <td>0.1809</td>\n",
              "      <td>0.05883</td>\n",
              "      <td>0.7572</td>\n",
              "      <td>0.7813</td>\n",
              "      <td>5.438</td>\n",
              "      <td>94.44</td>\n",
              "      <td>0.011490</td>\n",
              "      <td>0.02461</td>\n",
              "      <td>0.05688</td>\n",
              "      <td>0.01885</td>\n",
              "      <td>0.01756</td>\n",
              "      <td>0.005115</td>\n",
              "      <td>22.540</td>\n",
              "      <td>16.67</td>\n",
              "      <td>152.20</td>\n",
              "      <td>1575.0</td>\n",
              "      <td>0.13740</td>\n",
              "      <td>0.20500</td>\n",
              "      <td>0.4000</td>\n",
              "      <td>0.1625</td>\n",
              "      <td>0.2364</td>\n",
              "      <td>0.07678</td>\n",
              "      <td>Maligno</td>\n",
              "    </tr>\n",
              "    <tr>\n",
              "      <th>...</th>\n",
              "      <td>...</td>\n",
              "      <td>...</td>\n",
              "      <td>...</td>\n",
              "      <td>...</td>\n",
              "      <td>...</td>\n",
              "      <td>...</td>\n",
              "      <td>...</td>\n",
              "      <td>...</td>\n",
              "      <td>...</td>\n",
              "      <td>...</td>\n",
              "      <td>...</td>\n",
              "      <td>...</td>\n",
              "      <td>...</td>\n",
              "      <td>...</td>\n",
              "      <td>...</td>\n",
              "      <td>...</td>\n",
              "      <td>...</td>\n",
              "      <td>...</td>\n",
              "      <td>...</td>\n",
              "      <td>...</td>\n",
              "      <td>...</td>\n",
              "      <td>...</td>\n",
              "      <td>...</td>\n",
              "      <td>...</td>\n",
              "      <td>...</td>\n",
              "      <td>...</td>\n",
              "      <td>...</td>\n",
              "      <td>...</td>\n",
              "      <td>...</td>\n",
              "      <td>...</td>\n",
              "      <td>...</td>\n",
              "      <td>...</td>\n",
              "    </tr>\n",
              "    <tr>\n",
              "      <th>564</th>\n",
              "      <td>926424</td>\n",
              "      <td>21.56</td>\n",
              "      <td>22.39</td>\n",
              "      <td>142.00</td>\n",
              "      <td>1479.0</td>\n",
              "      <td>0.11100</td>\n",
              "      <td>0.11590</td>\n",
              "      <td>0.24390</td>\n",
              "      <td>0.13890</td>\n",
              "      <td>0.1726</td>\n",
              "      <td>0.05623</td>\n",
              "      <td>1.1760</td>\n",
              "      <td>1.2560</td>\n",
              "      <td>7.673</td>\n",
              "      <td>158.70</td>\n",
              "      <td>0.010300</td>\n",
              "      <td>0.02891</td>\n",
              "      <td>0.05198</td>\n",
              "      <td>0.02454</td>\n",
              "      <td>0.01114</td>\n",
              "      <td>0.004239</td>\n",
              "      <td>25.450</td>\n",
              "      <td>26.40</td>\n",
              "      <td>166.10</td>\n",
              "      <td>2027.0</td>\n",
              "      <td>0.14100</td>\n",
              "      <td>0.21130</td>\n",
              "      <td>0.4107</td>\n",
              "      <td>0.2216</td>\n",
              "      <td>0.2060</td>\n",
              "      <td>0.07115</td>\n",
              "      <td>Maligno</td>\n",
              "    </tr>\n",
              "    <tr>\n",
              "      <th>565</th>\n",
              "      <td>926682</td>\n",
              "      <td>20.13</td>\n",
              "      <td>28.25</td>\n",
              "      <td>131.20</td>\n",
              "      <td>1261.0</td>\n",
              "      <td>0.09780</td>\n",
              "      <td>0.10340</td>\n",
              "      <td>0.14400</td>\n",
              "      <td>0.09791</td>\n",
              "      <td>0.1752</td>\n",
              "      <td>0.05533</td>\n",
              "      <td>0.7655</td>\n",
              "      <td>2.4630</td>\n",
              "      <td>5.203</td>\n",
              "      <td>99.04</td>\n",
              "      <td>0.005769</td>\n",
              "      <td>0.02423</td>\n",
              "      <td>0.03950</td>\n",
              "      <td>0.01678</td>\n",
              "      <td>0.01898</td>\n",
              "      <td>0.002498</td>\n",
              "      <td>23.690</td>\n",
              "      <td>38.25</td>\n",
              "      <td>155.00</td>\n",
              "      <td>1731.0</td>\n",
              "      <td>0.11660</td>\n",
              "      <td>0.19220</td>\n",
              "      <td>0.3215</td>\n",
              "      <td>0.1628</td>\n",
              "      <td>0.2572</td>\n",
              "      <td>0.06637</td>\n",
              "      <td>Maligno</td>\n",
              "    </tr>\n",
              "    <tr>\n",
              "      <th>566</th>\n",
              "      <td>926954</td>\n",
              "      <td>16.60</td>\n",
              "      <td>28.08</td>\n",
              "      <td>108.30</td>\n",
              "      <td>858.1</td>\n",
              "      <td>0.08455</td>\n",
              "      <td>0.10230</td>\n",
              "      <td>0.09251</td>\n",
              "      <td>0.05302</td>\n",
              "      <td>0.1590</td>\n",
              "      <td>0.05648</td>\n",
              "      <td>0.4564</td>\n",
              "      <td>1.0750</td>\n",
              "      <td>3.425</td>\n",
              "      <td>48.55</td>\n",
              "      <td>0.005903</td>\n",
              "      <td>0.03731</td>\n",
              "      <td>0.04730</td>\n",
              "      <td>0.01557</td>\n",
              "      <td>0.01318</td>\n",
              "      <td>0.003892</td>\n",
              "      <td>18.980</td>\n",
              "      <td>34.12</td>\n",
              "      <td>126.70</td>\n",
              "      <td>1124.0</td>\n",
              "      <td>0.11390</td>\n",
              "      <td>0.30940</td>\n",
              "      <td>0.3403</td>\n",
              "      <td>0.1418</td>\n",
              "      <td>0.2218</td>\n",
              "      <td>0.07820</td>\n",
              "      <td>Maligno</td>\n",
              "    </tr>\n",
              "    <tr>\n",
              "      <th>567</th>\n",
              "      <td>927241</td>\n",
              "      <td>20.60</td>\n",
              "      <td>29.33</td>\n",
              "      <td>140.10</td>\n",
              "      <td>1265.0</td>\n",
              "      <td>0.11780</td>\n",
              "      <td>0.27700</td>\n",
              "      <td>0.35140</td>\n",
              "      <td>0.15200</td>\n",
              "      <td>0.2397</td>\n",
              "      <td>0.07016</td>\n",
              "      <td>0.7260</td>\n",
              "      <td>1.5950</td>\n",
              "      <td>5.772</td>\n",
              "      <td>86.22</td>\n",
              "      <td>0.006522</td>\n",
              "      <td>0.06158</td>\n",
              "      <td>0.07117</td>\n",
              "      <td>0.01664</td>\n",
              "      <td>0.02324</td>\n",
              "      <td>0.006185</td>\n",
              "      <td>25.740</td>\n",
              "      <td>39.42</td>\n",
              "      <td>184.60</td>\n",
              "      <td>1821.0</td>\n",
              "      <td>0.16500</td>\n",
              "      <td>0.86810</td>\n",
              "      <td>0.9387</td>\n",
              "      <td>0.2650</td>\n",
              "      <td>0.4087</td>\n",
              "      <td>0.12400</td>\n",
              "      <td>Maligno</td>\n",
              "    </tr>\n",
              "    <tr>\n",
              "      <th>568</th>\n",
              "      <td>92751</td>\n",
              "      <td>7.76</td>\n",
              "      <td>24.54</td>\n",
              "      <td>47.92</td>\n",
              "      <td>181.0</td>\n",
              "      <td>0.05263</td>\n",
              "      <td>0.04362</td>\n",
              "      <td>0.00000</td>\n",
              "      <td>0.00000</td>\n",
              "      <td>0.1587</td>\n",
              "      <td>0.05884</td>\n",
              "      <td>0.3857</td>\n",
              "      <td>1.4280</td>\n",
              "      <td>2.548</td>\n",
              "      <td>19.15</td>\n",
              "      <td>0.007189</td>\n",
              "      <td>0.00466</td>\n",
              "      <td>0.00000</td>\n",
              "      <td>0.00000</td>\n",
              "      <td>0.02676</td>\n",
              "      <td>0.002783</td>\n",
              "      <td>9.456</td>\n",
              "      <td>30.37</td>\n",
              "      <td>59.16</td>\n",
              "      <td>268.6</td>\n",
              "      <td>0.08996</td>\n",
              "      <td>0.06444</td>\n",
              "      <td>0.0000</td>\n",
              "      <td>0.0000</td>\n",
              "      <td>0.2871</td>\n",
              "      <td>0.07039</td>\n",
              "      <td>Benigno</td>\n",
              "    </tr>\n",
              "  </tbody>\n",
              "</table>\n",
              "<p>569 rows × 32 columns</p>\n",
              "</div>"
            ],
            "text/plain": [
              "           id  radius_mean  ...  fractal_dimension_worst  diagnosis\n",
              "0      842302        17.99  ...                  0.11890    Maligno\n",
              "1      842517        20.57  ...                  0.08902    Maligno\n",
              "2    84300903        19.69  ...                  0.08758    Maligno\n",
              "3    84348301        11.42  ...                  0.17300    Maligno\n",
              "4    84358402        20.29  ...                  0.07678    Maligno\n",
              "..        ...          ...  ...                      ...        ...\n",
              "564    926424        21.56  ...                  0.07115    Maligno\n",
              "565    926682        20.13  ...                  0.06637    Maligno\n",
              "566    926954        16.60  ...                  0.07820    Maligno\n",
              "567    927241        20.60  ...                  0.12400    Maligno\n",
              "568     92751         7.76  ...                  0.07039    Benigno\n",
              "\n",
              "[569 rows x 32 columns]"
            ]
          },
          "metadata": {},
          "execution_count": 6
        }
      ]
    },
    {
      "cell_type": "markdown",
      "metadata": {
        "id": "r0woYfFoQyxI"
      },
      "source": [
        "Separar las columnas        \n",
        "X-> se almacenarán todas los atributos de tipo numérico                     \n",
        "y-> se almacenará la predicción (Maligno o Benigno)"
      ]
    },
    {
      "cell_type": "code",
      "metadata": {
        "id": "5l8LDXDzROZI"
      },
      "source": [
        "X = dataset.iloc[:,1:-1].values\n",
        "y = dataset.iloc[:,-1].values\n"
      ],
      "execution_count": null,
      "outputs": []
    },
    {
      "cell_type": "markdown",
      "metadata": {
        "id": "_84vWdgSSGKH"
      },
      "source": [
        "Dividir la data en conjunto de entrenamiento(80%) y de test(20%)"
      ]
    },
    {
      "cell_type": "code",
      "metadata": {
        "id": "XBJx3sD9R3ch"
      },
      "source": [
        "from sklearn.model_selection import train_test_split\n",
        "X_train, X_test, y_train, y_test = train_test_split(X, y, test_size = 0.20, random_state = 0)"
      ],
      "execution_count": null,
      "outputs": []
    },
    {
      "cell_type": "markdown",
      "metadata": {
        "id": "50exnGw0Sj5J"
      },
      "source": [
        " Escalado de variables"
      ]
    },
    {
      "cell_type": "code",
      "metadata": {
        "id": "pfcqF24BSlxw"
      },
      "source": [
        "from sklearn.preprocessing import StandardScaler\n",
        "sc_X = StandardScaler()\n",
        "X_train = sc_X.fit_transform(X_train)\n",
        "X_test = sc_X.transform(X_test)"
      ],
      "execution_count": null,
      "outputs": []
    },
    {
      "cell_type": "markdown",
      "metadata": {
        "id": "uPHyUOwxCA2O"
      },
      "source": [
        "#<font color=\"red\"><u>**KNN**</u></font>"
      ]
    },
    {
      "cell_type": "markdown",
      "metadata": {
        "id": "DN-y46QiSqN-"
      },
      "source": [
        "Ajustar el clasificador en el Conjunto de Entrenamiento"
      ]
    },
    {
      "cell_type": "code",
      "metadata": {
        "colab": {
          "base_uri": "https://localhost:8080/"
        },
        "id": "BHEzZHfWSsIG",
        "outputId": "fb8a6777-7435-4965-9ddb-63dac2e99383"
      },
      "source": [
        "from sklearn.neighbors import KNeighborsClassifier\n",
        "classifier = KNeighborsClassifier(n_neighbors = 5, metric = \"euclidean\", p = 2)\n",
        "classifier.fit(X_train, y_train)"
      ],
      "execution_count": null,
      "outputs": [
        {
          "output_type": "execute_result",
          "data": {
            "text/plain": [
              "KNeighborsClassifier(metric='euclidean')"
            ]
          },
          "metadata": {},
          "execution_count": 10
        }
      ]
    },
    {
      "cell_type": "markdown",
      "metadata": {
        "id": "wb9DVQYESwuP"
      },
      "source": [
        "Realizar la prediccion sobre el X_test"
      ]
    },
    {
      "cell_type": "code",
      "metadata": {
        "id": "vI2r_L3_S13H"
      },
      "source": [
        "y_pred_knn  = classifier.predict(X_test)"
      ],
      "execution_count": null,
      "outputs": []
    },
    {
      "cell_type": "markdown",
      "metadata": {
        "id": "LeGAUGgGVQGA"
      },
      "source": [
        "RESULTADOS"
      ]
    },
    {
      "cell_type": "markdown",
      "metadata": {
        "id": "u-eSMnw3TALY"
      },
      "source": [
        "y_test ->Verdadero resultado"
      ]
    },
    {
      "cell_type": "code",
      "metadata": {
        "colab": {
          "base_uri": "https://localhost:8080/"
        },
        "id": "Afktw4METCpn",
        "outputId": "dcb8e9ce-e3d4-45ba-995b-a659986245ab"
      },
      "source": [
        "y_test"
      ],
      "execution_count": null,
      "outputs": [
        {
          "output_type": "execute_result",
          "data": {
            "text/plain": [
              "array(['Maligno', 'Benigno', 'Benigno', 'Benigno', 'Benigno', 'Benigno',\n",
              "       'Benigno', 'Benigno', 'Benigno', 'Benigno', 'Benigno', 'Benigno',\n",
              "       'Benigno', 'Benigno', 'Benigno', 'Maligno', 'Benigno', 'Maligno',\n",
              "       'Maligno', 'Maligno', 'Maligno', 'Maligno', 'Benigno', 'Benigno',\n",
              "       'Maligno', 'Benigno', 'Benigno', 'Maligno', 'Benigno', 'Maligno',\n",
              "       'Benigno', 'Maligno', 'Benigno', 'Maligno', 'Benigno', 'Maligno',\n",
              "       'Benigno', 'Maligno', 'Benigno', 'Maligno', 'Maligno', 'Benigno',\n",
              "       'Maligno', 'Benigno', 'Benigno', 'Maligno', 'Benigno', 'Benigno',\n",
              "       'Benigno', 'Maligno', 'Maligno', 'Maligno', 'Maligno', 'Benigno',\n",
              "       'Benigno', 'Benigno', 'Benigno', 'Benigno', 'Benigno', 'Maligno',\n",
              "       'Maligno', 'Maligno', 'Benigno', 'Benigno', 'Maligno', 'Benigno',\n",
              "       'Maligno', 'Maligno', 'Maligno', 'Benigno', 'Benigno', 'Maligno',\n",
              "       'Benigno', 'Maligno', 'Maligno', 'Benigno', 'Benigno', 'Benigno',\n",
              "       'Benigno', 'Benigno', 'Maligno', 'Maligno', 'Maligno', 'Benigno',\n",
              "       'Maligno', 'Benigno', 'Benigno', 'Benigno', 'Maligno', 'Maligno',\n",
              "       'Benigno', 'Maligno', 'Benigno', 'Maligno', 'Benigno', 'Benigno',\n",
              "       'Maligno', 'Benigno', 'Benigno', 'Benigno', 'Benigno', 'Benigno',\n",
              "       'Benigno', 'Benigno', 'Maligno', 'Benigno', 'Maligno', 'Benigno',\n",
              "       'Maligno', 'Maligno', 'Benigno', 'Maligno', 'Maligno', 'Benigno'],\n",
              "      dtype=object)"
            ]
          },
          "metadata": {},
          "execution_count": 12
        }
      ]
    },
    {
      "cell_type": "markdown",
      "metadata": {
        "id": "HkMjw5IWTGJ-"
      },
      "source": [
        "y_pred_knn -> Prediccion del Resultado"
      ]
    },
    {
      "cell_type": "code",
      "metadata": {
        "colab": {
          "base_uri": "https://localhost:8080/"
        },
        "id": "hEJdTwizTG9v",
        "outputId": "daaaa976-f330-4230-a984-8c86dfa10269"
      },
      "source": [
        "y_pred_knn"
      ],
      "execution_count": null,
      "outputs": [
        {
          "output_type": "execute_result",
          "data": {
            "text/plain": [
              "array(['Maligno', 'Benigno', 'Benigno', 'Benigno', 'Benigno', 'Benigno',\n",
              "       'Benigno', 'Benigno', 'Benigno', 'Benigno', 'Benigno', 'Benigno',\n",
              "       'Benigno', 'Benigno', 'Benigno', 'Maligno', 'Benigno', 'Maligno',\n",
              "       'Maligno', 'Maligno', 'Maligno', 'Maligno', 'Benigno', 'Benigno',\n",
              "       'Maligno', 'Benigno', 'Benigno', 'Maligno', 'Benigno', 'Maligno',\n",
              "       'Benigno', 'Maligno', 'Benigno', 'Maligno', 'Benigno', 'Maligno',\n",
              "       'Benigno', 'Maligno', 'Benigno', 'Maligno', 'Benigno', 'Benigno',\n",
              "       'Maligno', 'Benigno', 'Benigno', 'Maligno', 'Benigno', 'Benigno',\n",
              "       'Benigno', 'Maligno', 'Maligno', 'Maligno', 'Maligno', 'Benigno',\n",
              "       'Benigno', 'Benigno', 'Benigno', 'Benigno', 'Benigno', 'Maligno',\n",
              "       'Maligno', 'Maligno', 'Benigno', 'Benigno', 'Maligno', 'Benigno',\n",
              "       'Maligno', 'Maligno', 'Maligno', 'Benigno', 'Benigno', 'Maligno',\n",
              "       'Benigno', 'Benigno', 'Maligno', 'Benigno', 'Benigno', 'Benigno',\n",
              "       'Benigno', 'Benigno', 'Maligno', 'Maligno', 'Maligno', 'Benigno',\n",
              "       'Maligno', 'Benigno', 'Benigno', 'Benigno', 'Maligno', 'Maligno',\n",
              "       'Benigno', 'Benigno', 'Benigno', 'Maligno', 'Benigno', 'Benigno',\n",
              "       'Maligno', 'Benigno', 'Benigno', 'Benigno', 'Benigno', 'Benigno',\n",
              "       'Benigno', 'Benigno', 'Maligno', 'Benigno', 'Maligno', 'Benigno',\n",
              "       'Benigno', 'Benigno', 'Benigno', 'Maligno', 'Maligno', 'Benigno'],\n",
              "      dtype=object)"
            ]
          },
          "metadata": {},
          "execution_count": 13
        }
      ]
    },
    {
      "cell_type": "markdown",
      "metadata": {
        "id": "E9kT4P8eUb8-"
      },
      "source": [
        "matriz de confusión"
      ]
    },
    {
      "cell_type": "code",
      "metadata": {
        "colab": {
          "base_uri": "https://localhost:8080/",
          "height": 334
        },
        "id": "aJtrxNEJUdee",
        "outputId": "c6116abe-1feb-45a0-8ece-5d23fde34ae4"
      },
      "source": [
        "from sklearn.metrics import confusion_matrix\n",
        "from sklearn.metrics import plot_confusion_matrix\n",
        "plot_confusion_matrix(classifier, X_test, y_test)\n",
        "plt.show()"
      ],
      "execution_count": null,
      "outputs": [
        {
          "output_type": "stream",
          "name": "stderr",
          "text": [
            "/usr/local/lib/python3.7/dist-packages/sklearn/utils/deprecation.py:87: FutureWarning: Function plot_confusion_matrix is deprecated; Function `plot_confusion_matrix` is deprecated in 1.0 and will be removed in 1.2. Use one of the class methods: ConfusionMatrixDisplay.from_predictions or ConfusionMatrixDisplay.from_estimator.\n",
            "  warnings.warn(msg, category=FutureWarning)\n"
          ]
        },
        {
          "output_type": "display_data",
          "data": {
            "image/png": "[encoded data removed]",
            "text/plain": [
              "<Figure size 432x288 with 2 Axes>"
            ]
          },
          "metadata": {
            "needs_background": "light"
          }
        }
      ]
    },
    {
      "cell_type": "markdown",
      "metadata": {
        "id": "EBC9ehlGCH1F"
      },
      "source": [
        "\n",
        "#<font color=\"red\"><u>**DECISION TREE**</u></font>"
      ]
    },
    {
      "cell_type": "markdown",
      "metadata": {
        "id": "q13S4k1sCaHg"
      },
      "source": [
        "Ajustar el clasificador de Árbol de Decisión en el Conjunto de Entrenamiento"
      ]
    },
    {
      "cell_type": "code",
      "metadata": {
        "colab": {
          "base_uri": "https://localhost:8080/"
        },
        "id": "eM6cp4qtCLNd",
        "outputId": "23debf32-bf66-459e-8044-85071cfc7340"
      },
      "source": [
        "from sklearn.tree import DecisionTreeClassifier\n",
        "classifier = DecisionTreeClassifier(criterion = \"entropy\", random_state = 0)\n",
        "classifier.fit(X_train, y_train)"
      ],
      "execution_count": null,
      "outputs": [
        {
          "output_type": "execute_result",
          "data": {
            "text/plain": [
              "DecisionTreeClassifier(criterion='entropy', random_state=0)"
            ]
          },
          "metadata": {},
          "execution_count": 15
        }
      ]
    },
    {
      "cell_type": "markdown",
      "metadata": {
        "id": "7FKdp0cjIo0X"
      },
      "source": [
        "DEFINIENDO LAS REGLAS"
      ]
    },
    {
      "cell_type": "code",
      "metadata": {
        "id": "bZkwfRspMoCk"
      },
      "source": [
        "df1 = dataset\n",
        "features = df1.drop([\"diagnosis\"], axis=1)\n",
        "a = np.array(features)\n",
        "b = np.array(df1[\"diagnosis\"])\n",
        "\n",
        "a_train, a_val, b_train, b_val = train_test_split(a, b, random_state=0, test_size=0.20)\n",
        "tree = DecisionTreeClassifier()\n",
        "tree.fit(a_train, b_train)\n",
        "tree.tree_.max_depth\n",
        "validation_prediction = tree.predict(a_val)\n",
        "training_prediction = tree.predict(a_train)"
      ],
      "execution_count": null,
      "outputs": []
    },
    {
      "cell_type": "code",
      "metadata": {
        "colab": {
          "base_uri": "https://localhost:8080/",
          "height": 1000
        },
        "id": "C_E-aQWrIrNE",
        "outputId": "03d137f1-a9e1-4469-fd0b-109cffbafcfe"
      },
      "source": [
        "from sklearn.tree import export_graphviz\n",
        "import graphviz\n",
        "df1 = dataset\n",
        "features = df1.drop([\"diagnosis\"], axis=1)\n",
        "\n",
        "feature_names = features.columns\n",
        "\n",
        "dot_data = export_graphviz(tree, out_file=None, \n",
        "                         feature_names=feature_names,  \n",
        "                         class_names=True,  \n",
        "                         filled=True, rounded=True,  \n",
        "                         special_characters=True)  \n",
        "graph = graphviz.Source(dot_data)\n",
        "graph"
      ],
      "execution_count": null,
      "outputs": [
        {
          "output_type": "execute_result",
          "data": {
            "text/plain": [
              "<graphviz.files.Source at 0x7fbffb778910>"
            ],
            "image/svg+xml": "<?xml version=\"1.0\" encoding=\"UTF-8\" standalone=\"no\"?>\n<!DOCTYPE svg PUBLIC \"-//W3C//DTD SVG 1.1//EN\"\n \"http://www.w3.org/Graphics/SVG/1.1/DTD/svg11.dtd\">\n<!-- Generated by graphviz version 2.40.1 (20161225.0304)\n -->\n<!-- Title: Tree Pages: 1 -->\n<svg width=\"1864pt\" height=\"1098pt\"\n viewBox=\"0.00 0.00 1863.50 1098.00\" xmlns=\"http://www.w3.org/2000/svg\" xmlns:xlink=\"http://www.w3.org/1999/xlink\">\n<g id=\"graph0\" class=\"graph\" transform=\"scale(1 1) rotate(0) translate(4 1094)\">\n<title>Tree</title>\n<polygon fill=\"#ffffff\" stroke=\"transparent\" points=\"-4,4 -4,-1094 1859.5,-1094 1859.5,4 -4,4\"/>\n<!-- 0 -->\n<g id=\"node1\" class=\"node\">\n<title>0</title>\n<path fill=\"#f4c9aa\" stroke=\"#000000\" d=\"M1271,-1090C1271,-1090 1086,-1090 1086,-1090 1080,-1090 1074,-1084 1074,-1078 1074,-1078 1074,-1024 1074,-1024 1074,-1018 1080,-1012 1086,-1012 1086,-1012 1271,-1012 1271,-1012 1277,-1012 1283,-1018 1283,-1024 1283,-1024 1283,-1078 1283,-1078 1283,-1084 1277,-1090 1271,-1090\"/>\n<text text-anchor=\"start\" x=\"1082\" y=\"-1075.8\" font-family=\"Helvetica,sans-Serif\" font-size=\"14.00\" fill=\"#000000\">concave points_worst ≤ 0.142</text>\n<text text-anchor=\"start\" x=\"1140.5\" y=\"-1061.8\" font-family=\"Helvetica,sans-Serif\" font-size=\"14.00\" fill=\"#000000\">gini = 0.462</text>\n<text text-anchor=\"start\" x=\"1130.5\" y=\"-1047.8\" font-family=\"Helvetica,sans-Serif\" font-size=\"14.00\" fill=\"#000000\">samples = 455</text>\n<text text-anchor=\"start\" x=\"1120.5\" y=\"-1033.8\" font-family=\"Helvetica,sans-Serif\" font-size=\"14.00\" fill=\"#000000\">value = [290, 165]</text>\n<text text-anchor=\"start\" x=\"1146\" y=\"-1019.8\" font-family=\"Helvetica,sans-Serif\" font-size=\"14.00\" fill=\"#000000\">class = y</text>\n<text text-anchor=\"start\" x=\"1204\" y=\"-1019.8\" font-family=\"Helvetica,sans-Serif\" baseline-shift=\"sub\" font-size=\"14.00\" fill=\"#000000\">0</text>\n</g>\n<!-- 1 -->\n<g id=\"node2\" class=\"node\">\n<title>1</title>\n<path fill=\"#e78c4a\" stroke=\"#000000\" d=\"M1140,-976C1140,-976 1015,-976 1015,-976 1009,-976 1003,-970 1003,-964 1003,-964 1003,-910 1003,-910 1003,-904 1009,-898 1015,-898 1015,-898 1140,-898 1140,-898 1146,-898 1152,-904 1152,-910 1152,-910 1152,-964 1152,-964 1152,-970 1146,-976 1140,-976\"/>\n<text text-anchor=\"start\" x=\"1011\" y=\"-961.8\" font-family=\"Helvetica,sans-Serif\" font-size=\"14.00\" fill=\"#000000\">area_worst ≤ 957.45</text>\n<text text-anchor=\"start\" x=\"1039.5\" y=\"-947.8\" font-family=\"Helvetica,sans-Serif\" font-size=\"14.00\" fill=\"#000000\">gini = 0.146</text>\n<text text-anchor=\"start\" x=\"1029.5\" y=\"-933.8\" font-family=\"Helvetica,sans-Serif\" font-size=\"14.00\" fill=\"#000000\">samples = 303</text>\n<text text-anchor=\"start\" x=\"1023.5\" y=\"-919.8\" font-family=\"Helvetica,sans-Serif\" font-size=\"14.00\" fill=\"#000000\">value = [279, 24]</text>\n<text text-anchor=\"start\" x=\"1045\" y=\"-905.8\" font-family=\"Helvetica,sans-Serif\" font-size=\"14.00\" fill=\"#000000\">class = y</text>\n<text text-anchor=\"start\" x=\"1103\" y=\"-905.8\" font-family=\"Helvetica,sans-Serif\" baseline-shift=\"sub\" font-size=\"14.00\" fill=\"#000000\">0</text>\n</g>\n<!-- 0&#45;&gt;1 -->\n<g id=\"edge1\" class=\"edge\">\n<title>0&#45;&gt;1</title>\n<path fill=\"none\" stroke=\"#000000\" d=\"M1143.7415,-1011.7677C1135.8064,-1002.8111 1127.295,-993.2043 1119.1059,-983.9611\"/>\n<polygon fill=\"#000000\" stroke=\"#000000\" points=\"1121.5737,-981.4686 1112.3225,-976.3046 1116.3342,-986.1106 1121.5737,-981.4686\"/>\n<text text-anchor=\"middle\" x=\"1110.8137\" y=\"-997.5591\" font-family=\"Helvetica,sans-Serif\" font-size=\"14.00\" fill=\"#000000\">True</text>\n</g>\n<!-- 30 -->\n<g id=\"node31\" class=\"node\">\n<title>30</title>\n<path fill=\"#48a5e7\" stroke=\"#000000\" d=\"M1350,-976C1350,-976 1225,-976 1225,-976 1219,-976 1213,-970 1213,-964 1213,-964 1213,-910 1213,-910 1213,-904 1219,-898 1225,-898 1225,-898 1350,-898 1350,-898 1356,-898 1362,-904 1362,-910 1362,-910 1362,-964 1362,-964 1362,-970 1356,-976 1350,-976\"/>\n<text text-anchor=\"start\" x=\"1221\" y=\"-961.8\" font-family=\"Helvetica,sans-Serif\" font-size=\"14.00\" fill=\"#000000\">area_worst ≤ 729.55</text>\n<text text-anchor=\"start\" x=\"1249.5\" y=\"-947.8\" font-family=\"Helvetica,sans-Serif\" font-size=\"14.00\" fill=\"#000000\">gini = 0.134</text>\n<text text-anchor=\"start\" x=\"1239.5\" y=\"-933.8\" font-family=\"Helvetica,sans-Serif\" font-size=\"14.00\" fill=\"#000000\">samples = 152</text>\n<text text-anchor=\"start\" x=\"1233.5\" y=\"-919.8\" font-family=\"Helvetica,sans-Serif\" font-size=\"14.00\" fill=\"#000000\">value = [11, 141]</text>\n<text text-anchor=\"start\" x=\"1255\" y=\"-905.8\" font-family=\"Helvetica,sans-Serif\" font-size=\"14.00\" fill=\"#000000\">class = y</text>\n<text text-anchor=\"start\" x=\"1313\" y=\"-905.8\" font-family=\"Helvetica,sans-Serif\" baseline-shift=\"sub\" font-size=\"14.00\" fill=\"#000000\">1</text>\n</g>\n<!-- 0&#45;&gt;30 -->\n<g id=\"edge30\" class=\"edge\">\n<title>0&#45;&gt;30</title>\n<path fill=\"none\" stroke=\"#000000\" d=\"M1216.0116,-1011.7677C1224.661,-1002.7216 1233.9446,-993.0121 1242.8636,-983.6839\"/>\n<polygon fill=\"#000000\" stroke=\"#000000\" points=\"1245.5382,-985.9513 1249.9192,-976.3046 1240.4787,-981.1137 1245.5382,-985.9513\"/>\n<text text-anchor=\"middle\" x=\"1250.4796\" y=\"-997.5984\" font-family=\"Helvetica,sans-Serif\" font-size=\"14.00\" fill=\"#000000\">False</text>\n</g>\n<!-- 2 -->\n<g id=\"node3\" class=\"node\">\n<title>2</title>\n<path fill=\"#e68641\" stroke=\"#000000\" d=\"M955.5,-862C955.5,-862 799.5,-862 799.5,-862 793.5,-862 787.5,-856 787.5,-850 787.5,-850 787.5,-796 787.5,-796 787.5,-790 793.5,-784 799.5,-784 799.5,-784 955.5,-784 955.5,-784 961.5,-784 967.5,-790 967.5,-796 967.5,-796 967.5,-850 967.5,-850 967.5,-856 961.5,-862 955.5,-862\"/>\n<text text-anchor=\"start\" x=\"795.5\" y=\"-847.8\" font-family=\"Helvetica,sans-Serif\" font-size=\"14.00\" fill=\"#000000\">perimeter_worst ≤ 107.75</text>\n<text text-anchor=\"start\" x=\"839.5\" y=\"-833.8\" font-family=\"Helvetica,sans-Serif\" font-size=\"14.00\" fill=\"#000000\">gini = 0.073</text>\n<text text-anchor=\"start\" x=\"829.5\" y=\"-819.8\" font-family=\"Helvetica,sans-Serif\" font-size=\"14.00\" fill=\"#000000\">samples = 288</text>\n<text text-anchor=\"start\" x=\"823.5\" y=\"-805.8\" font-family=\"Helvetica,sans-Serif\" font-size=\"14.00\" fill=\"#000000\">value = [277, 11]</text>\n<text text-anchor=\"start\" x=\"845\" y=\"-791.8\" font-family=\"Helvetica,sans-Serif\" font-size=\"14.00\" fill=\"#000000\">class = y</text>\n<text text-anchor=\"start\" x=\"903\" y=\"-791.8\" font-family=\"Helvetica,sans-Serif\" baseline-shift=\"sub\" font-size=\"14.00\" fill=\"#000000\">0</text>\n</g>\n<!-- 1&#45;&gt;2 -->\n<g id=\"edge2\" class=\"edge\">\n<title>1&#45;&gt;2</title>\n<path fill=\"none\" stroke=\"#000000\" d=\"M1008.9512,-897.9272C991.4594,-887.9569 972.5383,-877.1718 954.6481,-866.9744\"/>\n<polygon fill=\"#000000\" stroke=\"#000000\" points=\"956.3803,-863.9331 945.9593,-862.0218 952.9138,-870.0146 956.3803,-863.9331\"/>\n</g>\n<!-- 27 -->\n<g id=\"node28\" class=\"node\">\n<title>27</title>\n<path fill=\"#57ace9\" stroke=\"#000000\" d=\"M1153.5,-862C1153.5,-862 1001.5,-862 1001.5,-862 995.5,-862 989.5,-856 989.5,-850 989.5,-850 989.5,-796 989.5,-796 989.5,-790 995.5,-784 1001.5,-784 1001.5,-784 1153.5,-784 1153.5,-784 1159.5,-784 1165.5,-790 1165.5,-796 1165.5,-796 1165.5,-850 1165.5,-850 1165.5,-856 1159.5,-862 1153.5,-862\"/>\n<text text-anchor=\"start\" x=\"997.5\" y=\"-847.8\" font-family=\"Helvetica,sans-Serif\" font-size=\"14.00\" fill=\"#000000\">symmetry_mean ≤ 0.152</text>\n<text text-anchor=\"start\" x=\"1039.5\" y=\"-833.8\" font-family=\"Helvetica,sans-Serif\" font-size=\"14.00\" fill=\"#000000\">gini = 0.231</text>\n<text text-anchor=\"start\" x=\"1033.5\" y=\"-819.8\" font-family=\"Helvetica,sans-Serif\" font-size=\"14.00\" fill=\"#000000\">samples = 15</text>\n<text text-anchor=\"start\" x=\"1032\" y=\"-805.8\" font-family=\"Helvetica,sans-Serif\" font-size=\"14.00\" fill=\"#000000\">value = [2, 13]</text>\n<text text-anchor=\"start\" x=\"1045\" y=\"-791.8\" font-family=\"Helvetica,sans-Serif\" font-size=\"14.00\" fill=\"#000000\">class = y</text>\n<text text-anchor=\"start\" x=\"1103\" y=\"-791.8\" font-family=\"Helvetica,sans-Serif\" baseline-shift=\"sub\" font-size=\"14.00\" fill=\"#000000\">1</text>\n</g>\n<!-- 1&#45;&gt;27 -->\n<g id=\"edge27\" class=\"edge\">\n<title>1&#45;&gt;27</title>\n<path fill=\"none\" stroke=\"#000000\" d=\"M1077.5,-897.7677C1077.5,-889.6172 1077.5,-880.9283 1077.5,-872.4649\"/>\n<polygon fill=\"#000000\" stroke=\"#000000\" points=\"1081.0001,-872.3046 1077.5,-862.3046 1074.0001,-872.3047 1081.0001,-872.3046\"/>\n</g>\n<!-- 3 -->\n<g id=\"node4\" class=\"node\">\n<title>3</title>\n<path fill=\"#e5833d\" stroke=\"#000000\" d=\"M775.5,-748C775.5,-748 667.5,-748 667.5,-748 661.5,-748 655.5,-742 655.5,-736 655.5,-736 655.5,-682 655.5,-682 655.5,-676 661.5,-670 667.5,-670 667.5,-670 775.5,-670 775.5,-670 781.5,-670 787.5,-676 787.5,-682 787.5,-682 787.5,-736 787.5,-736 787.5,-742 781.5,-748 775.5,-748\"/>\n<text text-anchor=\"start\" x=\"663.5\" y=\"-733.8\" font-family=\"Helvetica,sans-Serif\" font-size=\"14.00\" fill=\"#000000\">radius_se ≤ 1.048</text>\n<text text-anchor=\"start\" x=\"683.5\" y=\"-719.8\" font-family=\"Helvetica,sans-Serif\" font-size=\"14.00\" fill=\"#000000\">gini = 0.036</text>\n<text text-anchor=\"start\" x=\"673.5\" y=\"-705.8\" font-family=\"Helvetica,sans-Serif\" font-size=\"14.00\" fill=\"#000000\">samples = 269</text>\n<text text-anchor=\"start\" x=\"671.5\" y=\"-691.8\" font-family=\"Helvetica,sans-Serif\" font-size=\"14.00\" fill=\"#000000\">value = [264, 5]</text>\n<text text-anchor=\"start\" x=\"689\" y=\"-677.8\" font-family=\"Helvetica,sans-Serif\" font-size=\"14.00\" fill=\"#000000\">class = y</text>\n<text text-anchor=\"start\" x=\"747\" y=\"-677.8\" font-family=\"Helvetica,sans-Serif\" baseline-shift=\"sub\" font-size=\"14.00\" fill=\"#000000\">0</text>\n</g>\n<!-- 2&#45;&gt;3 -->\n<g id=\"edge3\" class=\"edge\">\n<title>2&#45;&gt;3</title>\n<path fill=\"none\" stroke=\"#000000\" d=\"M823.8136,-783.7677C810.749,-774.2204 796.6732,-763.9342 783.2668,-754.1373\"/>\n<polygon fill=\"#000000\" stroke=\"#000000\" points=\"785.1599,-751.1858 775.0209,-748.1115 781.0298,-756.8375 785.1599,-751.1858\"/>\n</g>\n<!-- 22 -->\n<g id=\"node23\" class=\"node\">\n<title>22</title>\n<path fill=\"#f1bb94\" stroke=\"#000000\" d=\"M937,-748C937,-748 818,-748 818,-748 812,-748 806,-742 806,-736 806,-736 806,-682 806,-682 806,-676 812,-670 818,-670 818,-670 937,-670 937,-670 943,-670 949,-676 949,-682 949,-682 949,-736 949,-736 949,-742 943,-748 937,-748\"/>\n<text text-anchor=\"start\" x=\"814\" y=\"-733.8\" font-family=\"Helvetica,sans-Serif\" font-size=\"14.00\" fill=\"#000000\">area_mean ≤ 610.4</text>\n<text text-anchor=\"start\" x=\"839.5\" y=\"-719.8\" font-family=\"Helvetica,sans-Serif\" font-size=\"14.00\" fill=\"#000000\">gini = 0.432</text>\n<text text-anchor=\"start\" x=\"833.5\" y=\"-705.8\" font-family=\"Helvetica,sans-Serif\" font-size=\"14.00\" fill=\"#000000\">samples = 19</text>\n<text text-anchor=\"start\" x=\"832\" y=\"-691.8\" font-family=\"Helvetica,sans-Serif\" font-size=\"14.00\" fill=\"#000000\">value = [13, 6]</text>\n<text text-anchor=\"start\" x=\"845\" y=\"-677.8\" font-family=\"Helvetica,sans-Serif\" font-size=\"14.00\" fill=\"#000000\">class = y</text>\n<text text-anchor=\"start\" x=\"903\" y=\"-677.8\" font-family=\"Helvetica,sans-Serif\" baseline-shift=\"sub\" font-size=\"14.00\" fill=\"#000000\">0</text>\n</g>\n<!-- 2&#45;&gt;22 -->\n<g id=\"edge22\" class=\"edge\">\n<title>2&#45;&gt;22</title>\n<path fill=\"none\" stroke=\"#000000\" d=\"M877.5,-783.7677C877.5,-775.6172 877.5,-766.9283 877.5,-758.4649\"/>\n<polygon fill=\"#000000\" stroke=\"#000000\" points=\"881.0001,-758.3046 877.5,-748.3046 874.0001,-758.3047 881.0001,-758.3046\"/>\n</g>\n<!-- 4 -->\n<g id=\"node5\" class=\"node\">\n<title>4</title>\n<path fill=\"#e5833c\" stroke=\"#000000\" d=\"M652,-634C652,-634 501,-634 501,-634 495,-634 489,-628 489,-622 489,-622 489,-568 489,-568 489,-562 495,-556 501,-556 501,-556 652,-556 652,-556 658,-556 664,-562 664,-568 664,-568 664,-622 664,-622 664,-628 658,-634 652,-634\"/>\n<text text-anchor=\"start\" x=\"497\" y=\"-619.8\" font-family=\"Helvetica,sans-Serif\" font-size=\"14.00\" fill=\"#000000\">concavity_mean ≤ 0.141</text>\n<text text-anchor=\"start\" x=\"538.5\" y=\"-605.8\" font-family=\"Helvetica,sans-Serif\" font-size=\"14.00\" fill=\"#000000\">gini = 0.029</text>\n<text text-anchor=\"start\" x=\"528.5\" y=\"-591.8\" font-family=\"Helvetica,sans-Serif\" font-size=\"14.00\" fill=\"#000000\">samples = 268</text>\n<text text-anchor=\"start\" x=\"526.5\" y=\"-577.8\" font-family=\"Helvetica,sans-Serif\" font-size=\"14.00\" fill=\"#000000\">value = [264, 4]</text>\n<text text-anchor=\"start\" x=\"544\" y=\"-563.8\" font-family=\"Helvetica,sans-Serif\" font-size=\"14.00\" fill=\"#000000\">class = y</text>\n<text text-anchor=\"start\" x=\"602\" y=\"-563.8\" font-family=\"Helvetica,sans-Serif\" baseline-shift=\"sub\" font-size=\"14.00\" fill=\"#000000\">0</text>\n</g>\n<!-- 3&#45;&gt;4 -->\n<g id=\"edge4\" class=\"edge\">\n<title>3&#45;&gt;4</title>\n<path fill=\"none\" stroke=\"#000000\" d=\"M671.5992,-669.7677C659.6375,-660.3633 646.7639,-650.242 634.4714,-640.5775\"/>\n<polygon fill=\"#000000\" stroke=\"#000000\" points=\"636.5173,-637.7338 626.4928,-634.3046 632.1909,-643.2368 636.5173,-637.7338\"/>\n</g>\n<!-- 21 -->\n<g id=\"node22\" class=\"node\">\n<title>21</title>\n<path fill=\"#399de5\" stroke=\"#000000\" d=\"M769,-627C769,-627 694,-627 694,-627 688,-627 682,-621 682,-615 682,-615 682,-575 682,-575 682,-569 688,-563 694,-563 694,-563 769,-563 769,-563 775,-563 781,-569 781,-575 781,-575 781,-615 781,-615 781,-621 775,-627 769,-627\"/>\n<text text-anchor=\"start\" x=\"702\" y=\"-612.8\" font-family=\"Helvetica,sans-Serif\" font-size=\"14.00\" fill=\"#000000\">gini = 0.0</text>\n<text text-anchor=\"start\" x=\"692\" y=\"-598.8\" font-family=\"Helvetica,sans-Serif\" font-size=\"14.00\" fill=\"#000000\">samples = 1</text>\n<text text-anchor=\"start\" x=\"690\" y=\"-584.8\" font-family=\"Helvetica,sans-Serif\" font-size=\"14.00\" fill=\"#000000\">value = [0, 1]</text>\n<text text-anchor=\"start\" x=\"699\" y=\"-570.8\" font-family=\"Helvetica,sans-Serif\" font-size=\"14.00\" fill=\"#000000\">class = y</text>\n<text text-anchor=\"start\" x=\"757\" y=\"-570.8\" font-family=\"Helvetica,sans-Serif\" baseline-shift=\"sub\" font-size=\"14.00\" fill=\"#000000\">1</text>\n</g>\n<!-- 3&#45;&gt;21 -->\n<g id=\"edge21\" class=\"edge\">\n<title>3&#45;&gt;21</title>\n<path fill=\"none\" stroke=\"#000000\" d=\"M724.9414,-669.7677C725.8662,-659.2251 726.87,-647.7816 727.8078,-637.0907\"/>\n<polygon fill=\"#000000\" stroke=\"#000000\" points=\"731.2947,-637.3928 728.682,-627.1252 724.3215,-636.7811 731.2947,-637.3928\"/>\n</g>\n<!-- 5 -->\n<g id=\"node6\" class=\"node\">\n<title>5</title>\n<path fill=\"#e5823b\" stroke=\"#000000\" d=\"M546.5,-520C546.5,-520 440.5,-520 440.5,-520 434.5,-520 428.5,-514 428.5,-508 428.5,-508 428.5,-454 428.5,-454 428.5,-448 434.5,-442 440.5,-442 440.5,-442 546.5,-442 546.5,-442 552.5,-442 558.5,-448 558.5,-454 558.5,-454 558.5,-508 558.5,-508 558.5,-514 552.5,-520 546.5,-520\"/>\n<text text-anchor=\"start\" x=\"436.5\" y=\"-505.8\" font-family=\"Helvetica,sans-Serif\" font-size=\"14.00\" fill=\"#000000\">area_se ≤ 48.975</text>\n<text text-anchor=\"start\" x=\"455.5\" y=\"-491.8\" font-family=\"Helvetica,sans-Serif\" font-size=\"14.00\" fill=\"#000000\">gini = 0.022</text>\n<text text-anchor=\"start\" x=\"445.5\" y=\"-477.8\" font-family=\"Helvetica,sans-Serif\" font-size=\"14.00\" fill=\"#000000\">samples = 265</text>\n<text text-anchor=\"start\" x=\"443.5\" y=\"-463.8\" font-family=\"Helvetica,sans-Serif\" font-size=\"14.00\" fill=\"#000000\">value = [262, 3]</text>\n<text text-anchor=\"start\" x=\"461\" y=\"-449.8\" font-family=\"Helvetica,sans-Serif\" font-size=\"14.00\" fill=\"#000000\">class = y</text>\n<text text-anchor=\"start\" x=\"519\" y=\"-449.8\" font-family=\"Helvetica,sans-Serif\" baseline-shift=\"sub\" font-size=\"14.00\" fill=\"#000000\">0</text>\n</g>\n<!-- 4&#45;&gt;5 -->\n<g id=\"edge5\" class=\"edge\">\n<title>4&#45;&gt;5</title>\n<path fill=\"none\" stroke=\"#000000\" d=\"M547.9361,-555.7677C541.5455,-546.9903 534.7003,-537.5883 528.0951,-528.5161\"/>\n<polygon fill=\"#000000\" stroke=\"#000000\" points=\"530.832,-526.3289 522.1165,-520.3046 525.173,-530.4491 530.832,-526.3289\"/>\n</g>\n<!-- 18 -->\n<g id=\"node19\" class=\"node\">\n<title>18</title>\n<path fill=\"#f2c09c\" stroke=\"#000000\" d=\"M732,-520C732,-520 589,-520 589,-520 583,-520 577,-514 577,-508 577,-508 577,-454 577,-454 577,-448 583,-442 589,-442 589,-442 732,-442 732,-442 738,-442 744,-448 744,-454 744,-454 744,-508 744,-508 744,-514 738,-520 732,-520\"/>\n<text text-anchor=\"start\" x=\"585\" y=\"-505.8\" font-family=\"Helvetica,sans-Serif\" font-size=\"14.00\" fill=\"#000000\">concavity_mean ≤ 0.15</text>\n<text text-anchor=\"start\" x=\"622.5\" y=\"-491.8\" font-family=\"Helvetica,sans-Serif\" font-size=\"14.00\" fill=\"#000000\">gini = 0.444</text>\n<text text-anchor=\"start\" x=\"621\" y=\"-477.8\" font-family=\"Helvetica,sans-Serif\" font-size=\"14.00\" fill=\"#000000\">samples = 3</text>\n<text text-anchor=\"start\" x=\"619\" y=\"-463.8\" font-family=\"Helvetica,sans-Serif\" font-size=\"14.00\" fill=\"#000000\">value = [2, 1]</text>\n<text text-anchor=\"start\" x=\"628\" y=\"-449.8\" font-family=\"Helvetica,sans-Serif\" font-size=\"14.00\" fill=\"#000000\">class = y</text>\n<text text-anchor=\"start\" x=\"686\" y=\"-449.8\" font-family=\"Helvetica,sans-Serif\" baseline-shift=\"sub\" font-size=\"14.00\" fill=\"#000000\">0</text>\n</g>\n<!-- 4&#45;&gt;18 -->\n<g id=\"edge18\" class=\"edge\">\n<title>4&#45;&gt;18</title>\n<path fill=\"none\" stroke=\"#000000\" d=\"M605.408,-555.7677C611.8756,-546.9903 618.8034,-537.5883 625.4881,-528.5161\"/>\n<polygon fill=\"#000000\" stroke=\"#000000\" points=\"628.4244,-530.4314 631.5387,-520.3046 622.7889,-526.279 628.4244,-530.4314\"/>\n</g>\n<!-- 6 -->\n<g id=\"node7\" class=\"node\">\n<title>6</title>\n<path fill=\"#e5823b\" stroke=\"#000000\" d=\"M392.5,-406C392.5,-406 244.5,-406 244.5,-406 238.5,-406 232.5,-400 232.5,-394 232.5,-394 232.5,-340 232.5,-340 232.5,-334 238.5,-328 244.5,-328 244.5,-328 392.5,-328 392.5,-328 398.5,-328 404.5,-334 404.5,-340 404.5,-340 404.5,-394 404.5,-394 404.5,-400 398.5,-406 392.5,-406\"/>\n<text text-anchor=\"start\" x=\"240.5\" y=\"-391.8\" font-family=\"Helvetica,sans-Serif\" font-size=\"14.00\" fill=\"#000000\">smoothness_se ≤ 0.003</text>\n<text text-anchor=\"start\" x=\"280.5\" y=\"-377.8\" font-family=\"Helvetica,sans-Serif\" font-size=\"14.00\" fill=\"#000000\">gini = 0.015</text>\n<text text-anchor=\"start\" x=\"270.5\" y=\"-363.8\" font-family=\"Helvetica,sans-Serif\" font-size=\"14.00\" fill=\"#000000\">samples = 262</text>\n<text text-anchor=\"start\" x=\"268.5\" y=\"-349.8\" font-family=\"Helvetica,sans-Serif\" font-size=\"14.00\" fill=\"#000000\">value = [260, 2]</text>\n<text text-anchor=\"start\" x=\"286\" y=\"-335.8\" font-family=\"Helvetica,sans-Serif\" font-size=\"14.00\" fill=\"#000000\">class = y</text>\n<text text-anchor=\"start\" x=\"344\" y=\"-335.8\" font-family=\"Helvetica,sans-Serif\" baseline-shift=\"sub\" font-size=\"14.00\" fill=\"#000000\">0</text>\n</g>\n<!-- 5&#45;&gt;6 -->\n<g id=\"edge6\" class=\"edge\">\n<title>5&#45;&gt;6</title>\n<path fill=\"none\" stroke=\"#000000\" d=\"M433.2749,-441.7677C418.3425,-432.0403 402.2326,-421.5458 386.9392,-411.5832\"/>\n<polygon fill=\"#000000\" stroke=\"#000000\" points=\"388.8289,-408.6372 378.5395,-406.1115 385.0081,-414.5024 388.8289,-408.6372\"/>\n</g>\n<!-- 15 -->\n<g id=\"node16\" class=\"node\">\n<title>15</title>\n<path fill=\"#f2c09c\" stroke=\"#000000\" d=\"M564,-406C564,-406 435,-406 435,-406 429,-406 423,-400 423,-394 423,-394 423,-340 423,-340 423,-334 429,-328 435,-328 435,-328 564,-328 564,-328 570,-328 576,-334 576,-340 576,-340 576,-394 576,-394 576,-400 570,-406 564,-406\"/>\n<text text-anchor=\"start\" x=\"431\" y=\"-391.8\" font-family=\"Helvetica,sans-Serif\" font-size=\"14.00\" fill=\"#000000\">perimeter_se ≤ 4.249</text>\n<text text-anchor=\"start\" x=\"461.5\" y=\"-377.8\" font-family=\"Helvetica,sans-Serif\" font-size=\"14.00\" fill=\"#000000\">gini = 0.444</text>\n<text text-anchor=\"start\" x=\"460\" y=\"-363.8\" font-family=\"Helvetica,sans-Serif\" font-size=\"14.00\" fill=\"#000000\">samples = 3</text>\n<text text-anchor=\"start\" x=\"458\" y=\"-349.8\" font-family=\"Helvetica,sans-Serif\" font-size=\"14.00\" fill=\"#000000\">value = [2, 1]</text>\n<text text-anchor=\"start\" x=\"467\" y=\"-335.8\" font-family=\"Helvetica,sans-Serif\" font-size=\"14.00\" fill=\"#000000\">class = y</text>\n<text text-anchor=\"start\" x=\"525\" y=\"-335.8\" font-family=\"Helvetica,sans-Serif\" baseline-shift=\"sub\" font-size=\"14.00\" fill=\"#000000\">0</text>\n</g>\n<!-- 5&#45;&gt;15 -->\n<g id=\"edge15\" class=\"edge\">\n<title>5&#45;&gt;15</title>\n<path fill=\"none\" stroke=\"#000000\" d=\"M495.5649,-441.7677C495.9938,-433.6172 496.4511,-424.9283 496.8966,-416.4649\"/>\n<polygon fill=\"#000000\" stroke=\"#000000\" points=\"500.4008,-416.4748 497.4313,-406.3046 493.4105,-416.1068 500.4008,-416.4748\"/>\n</g>\n<!-- 7 -->\n<g id=\"node8\" class=\"node\">\n<title>7</title>\n<path fill=\"#ea9a61\" stroke=\"#000000\" d=\"M220,-292C220,-292 89,-292 89,-292 83,-292 77,-286 77,-280 77,-280 77,-226 77,-226 77,-220 83,-214 89,-214 89,-214 220,-214 220,-214 226,-214 232,-220 232,-226 232,-226 232,-280 232,-280 232,-286 226,-292 220,-292\"/>\n<text text-anchor=\"start\" x=\"85\" y=\"-277.8\" font-family=\"Helvetica,sans-Serif\" font-size=\"14.00\" fill=\"#000000\">texture_worst ≤ 26.89</text>\n<text text-anchor=\"start\" x=\"116.5\" y=\"-263.8\" font-family=\"Helvetica,sans-Serif\" font-size=\"14.00\" fill=\"#000000\">gini = 0.278</text>\n<text text-anchor=\"start\" x=\"115\" y=\"-249.8\" font-family=\"Helvetica,sans-Serif\" font-size=\"14.00\" fill=\"#000000\">samples = 6</text>\n<text text-anchor=\"start\" x=\"113\" y=\"-235.8\" font-family=\"Helvetica,sans-Serif\" font-size=\"14.00\" fill=\"#000000\">value = [5, 1]</text>\n<text text-anchor=\"start\" x=\"122\" y=\"-221.8\" font-family=\"Helvetica,sans-Serif\" font-size=\"14.00\" fill=\"#000000\">class = y</text>\n<text text-anchor=\"start\" x=\"180\" y=\"-221.8\" font-family=\"Helvetica,sans-Serif\" baseline-shift=\"sub\" font-size=\"14.00\" fill=\"#000000\">0</text>\n</g>\n<!-- 6&#45;&gt;7 -->\n<g id=\"edge7\" class=\"edge\">\n<title>6&#45;&gt;7</title>\n<path fill=\"none\" stroke=\"#000000\" d=\"M262.0605,-327.7677C248.1963,-318.1303 233.2489,-307.7401 219.0356,-297.8601\"/>\n<polygon fill=\"#000000\" stroke=\"#000000\" points=\"220.9744,-294.9453 210.7656,-292.1115 216.979,-300.6931 220.9744,-294.9453\"/>\n</g>\n<!-- 10 -->\n<g id=\"node11\" class=\"node\">\n<title>10</title>\n<path fill=\"#e5813a\" stroke=\"#000000\" d=\"M393,-292C393,-292 262,-292 262,-292 256,-292 250,-286 250,-280 250,-280 250,-226 250,-226 250,-220 256,-214 262,-214 262,-214 393,-214 393,-214 399,-214 405,-220 405,-226 405,-226 405,-280 405,-280 405,-286 399,-292 393,-292\"/>\n<text text-anchor=\"start\" x=\"258\" y=\"-277.8\" font-family=\"Helvetica,sans-Serif\" font-size=\"14.00\" fill=\"#000000\">texture_worst ≤ 32.83</text>\n<text text-anchor=\"start\" x=\"289.5\" y=\"-263.8\" font-family=\"Helvetica,sans-Serif\" font-size=\"14.00\" fill=\"#000000\">gini = 0.008</text>\n<text text-anchor=\"start\" x=\"279.5\" y=\"-249.8\" font-family=\"Helvetica,sans-Serif\" font-size=\"14.00\" fill=\"#000000\">samples = 256</text>\n<text text-anchor=\"start\" x=\"277.5\" y=\"-235.8\" font-family=\"Helvetica,sans-Serif\" font-size=\"14.00\" fill=\"#000000\">value = [255, 1]</text>\n<text text-anchor=\"start\" x=\"295\" y=\"-221.8\" font-family=\"Helvetica,sans-Serif\" font-size=\"14.00\" fill=\"#000000\">class = y</text>\n<text text-anchor=\"start\" x=\"353\" y=\"-221.8\" font-family=\"Helvetica,sans-Serif\" baseline-shift=\"sub\" font-size=\"14.00\" fill=\"#000000\">0</text>\n</g>\n<!-- 6&#45;&gt;10 -->\n<g id=\"edge10\" class=\"edge\">\n<title>6&#45;&gt;10</title>\n<path fill=\"none\" stroke=\"#000000\" d=\"M321.5973,-327.7677C322.2407,-319.6172 322.9267,-310.9283 323.5949,-302.4649\"/>\n<polygon fill=\"#000000\" stroke=\"#000000\" points=\"327.099,-302.5491 324.397,-292.3046 320.1207,-301.9981 327.099,-302.5491\"/>\n</g>\n<!-- 8 -->\n<g id=\"node9\" class=\"node\">\n<title>8</title>\n<path fill=\"#e58139\" stroke=\"#000000\" d=\"M87,-171C87,-171 12,-171 12,-171 6,-171 0,-165 0,-159 0,-159 0,-119 0,-119 0,-113 6,-107 12,-107 12,-107 87,-107 87,-107 93,-107 99,-113 99,-119 99,-119 99,-159 99,-159 99,-165 93,-171 87,-171\"/>\n<text text-anchor=\"start\" x=\"20\" y=\"-156.8\" font-family=\"Helvetica,sans-Serif\" font-size=\"14.00\" fill=\"#000000\">gini = 0.0</text>\n<text text-anchor=\"start\" x=\"10\" y=\"-142.8\" font-family=\"Helvetica,sans-Serif\" font-size=\"14.00\" fill=\"#000000\">samples = 5</text>\n<text text-anchor=\"start\" x=\"8\" y=\"-128.8\" font-family=\"Helvetica,sans-Serif\" font-size=\"14.00\" fill=\"#000000\">value = [5, 0]</text>\n<text text-anchor=\"start\" x=\"17\" y=\"-114.8\" font-family=\"Helvetica,sans-Serif\" font-size=\"14.00\" fill=\"#000000\">class = y</text>\n<text text-anchor=\"start\" x=\"75\" y=\"-114.8\" font-family=\"Helvetica,sans-Serif\" baseline-shift=\"sub\" font-size=\"14.00\" fill=\"#000000\">0</text>\n</g>\n<!-- 7&#45;&gt;8 -->\n<g id=\"edge8\" class=\"edge\">\n<title>7&#45;&gt;8</title>\n<path fill=\"none\" stroke=\"#000000\" d=\"M118.365,-213.7677C107.954,-202.4643 96.589,-190.1252 86.1473,-178.7885\"/>\n<polygon fill=\"#000000\" stroke=\"#000000\" points=\"88.4382,-176.1095 79.089,-171.1252 83.2894,-180.8519 88.4382,-176.1095\"/>\n</g>\n<!-- 9 -->\n<g id=\"node10\" class=\"node\">\n<title>9</title>\n<path fill=\"#399de5\" stroke=\"#000000\" d=\"M204,-171C204,-171 129,-171 129,-171 123,-171 117,-165 117,-159 117,-159 117,-119 117,-119 117,-113 123,-107 129,-107 129,-107 204,-107 204,-107 210,-107 216,-113 216,-119 216,-119 216,-159 216,-159 216,-165 210,-171 204,-171\"/>\n<text text-anchor=\"start\" x=\"137\" y=\"-156.8\" font-family=\"Helvetica,sans-Serif\" font-size=\"14.00\" fill=\"#000000\">gini = 0.0</text>\n<text text-anchor=\"start\" x=\"127\" y=\"-142.8\" font-family=\"Helvetica,sans-Serif\" font-size=\"14.00\" fill=\"#000000\">samples = 1</text>\n<text text-anchor=\"start\" x=\"125\" y=\"-128.8\" font-family=\"Helvetica,sans-Serif\" font-size=\"14.00\" fill=\"#000000\">value = [0, 1]</text>\n<text text-anchor=\"start\" x=\"134\" y=\"-114.8\" font-family=\"Helvetica,sans-Serif\" font-size=\"14.00\" fill=\"#000000\">class = y</text>\n<text text-anchor=\"start\" x=\"192\" y=\"-114.8\" font-family=\"Helvetica,sans-Serif\" baseline-shift=\"sub\" font-size=\"14.00\" fill=\"#000000\">1</text>\n</g>\n<!-- 7&#45;&gt;9 -->\n<g id=\"edge9\" class=\"edge\">\n<title>7&#45;&gt;9</title>\n<path fill=\"none\" stroke=\"#000000\" d=\"M158.6297,-213.7677C159.7395,-203.2251 160.944,-191.7816 162.0694,-181.0907\"/>\n<polygon fill=\"#000000\" stroke=\"#000000\" points=\"165.5522,-181.4367 163.1184,-171.1252 158.5907,-180.7038 165.5522,-181.4367\"/>\n</g>\n<!-- 11 -->\n<g id=\"node12\" class=\"node\">\n<title>11</title>\n<path fill=\"#e58139\" stroke=\"#000000\" d=\"M361.5,-171C361.5,-171 269.5,-171 269.5,-171 263.5,-171 257.5,-165 257.5,-159 257.5,-159 257.5,-119 257.5,-119 257.5,-113 263.5,-107 269.5,-107 269.5,-107 361.5,-107 361.5,-107 367.5,-107 373.5,-113 373.5,-119 373.5,-119 373.5,-159 373.5,-159 373.5,-165 367.5,-171 361.5,-171\"/>\n<text text-anchor=\"start\" x=\"286\" y=\"-156.8\" font-family=\"Helvetica,sans-Serif\" font-size=\"14.00\" fill=\"#000000\">gini = 0.0</text>\n<text text-anchor=\"start\" x=\"267.5\" y=\"-142.8\" font-family=\"Helvetica,sans-Serif\" font-size=\"14.00\" fill=\"#000000\">samples = 239</text>\n<text text-anchor=\"start\" x=\"265.5\" y=\"-128.8\" font-family=\"Helvetica,sans-Serif\" font-size=\"14.00\" fill=\"#000000\">value = [239, 0]</text>\n<text text-anchor=\"start\" x=\"283\" y=\"-114.8\" font-family=\"Helvetica,sans-Serif\" font-size=\"14.00\" fill=\"#000000\">class = y</text>\n<text text-anchor=\"start\" x=\"341\" y=\"-114.8\" font-family=\"Helvetica,sans-Serif\" baseline-shift=\"sub\" font-size=\"14.00\" fill=\"#000000\">0</text>\n</g>\n<!-- 10&#45;&gt;11 -->\n<g id=\"edge11\" class=\"edge\">\n<title>10&#45;&gt;11</title>\n<path fill=\"none\" stroke=\"#000000\" d=\"M323.3703,-213.7677C322.2605,-203.2251 321.056,-191.7816 319.9306,-181.0907\"/>\n<polygon fill=\"#000000\" stroke=\"#000000\" points=\"323.4093,-180.7038 318.8816,-171.1252 316.4478,-181.4367 323.4093,-180.7038\"/>\n</g>\n<!-- 12 -->\n<g id=\"node13\" class=\"node\">\n<title>12</title>\n<path fill=\"#e78945\" stroke=\"#000000\" d=\"M487,-178C487,-178 404,-178 404,-178 398,-178 392,-172 392,-166 392,-166 392,-112 392,-112 392,-106 398,-100 404,-100 404,-100 487,-100 487,-100 493,-100 499,-106 499,-112 499,-112 499,-166 499,-166 499,-172 493,-178 487,-178\"/>\n<text text-anchor=\"start\" x=\"401.5\" y=\"-163.8\" font-family=\"Helvetica,sans-Serif\" font-size=\"14.00\" fill=\"#000000\">id ≤ 875736.0</text>\n<text text-anchor=\"start\" x=\"407.5\" y=\"-149.8\" font-family=\"Helvetica,sans-Serif\" font-size=\"14.00\" fill=\"#000000\">gini = 0.111</text>\n<text text-anchor=\"start\" x=\"401.5\" y=\"-135.8\" font-family=\"Helvetica,sans-Serif\" font-size=\"14.00\" fill=\"#000000\">samples = 17</text>\n<text text-anchor=\"start\" x=\"400\" y=\"-121.8\" font-family=\"Helvetica,sans-Serif\" font-size=\"14.00\" fill=\"#000000\">value = [16, 1]</text>\n<text text-anchor=\"start\" x=\"413\" y=\"-107.8\" font-family=\"Helvetica,sans-Serif\" font-size=\"14.00\" fill=\"#000000\">class = y</text>\n<text text-anchor=\"start\" x=\"471\" y=\"-107.8\" font-family=\"Helvetica,sans-Serif\" baseline-shift=\"sub\" font-size=\"14.00\" fill=\"#000000\">0</text>\n</g>\n<!-- 10&#45;&gt;12 -->\n<g id=\"edge12\" class=\"edge\">\n<title>10&#45;&gt;12</title>\n<path fill=\"none\" stroke=\"#000000\" d=\"M368.1089,-213.7677C377.5651,-204.632 387.7217,-194.8198 397.4647,-185.407\"/>\n<polygon fill=\"#000000\" stroke=\"#000000\" points=\"400.0562,-187.77 404.8162,-178.3046 395.1924,-182.7356 400.0562,-187.77\"/>\n</g>\n<!-- 13 -->\n<g id=\"node14\" class=\"node\">\n<title>13</title>\n<path fill=\"#399de5\" stroke=\"#000000\" d=\"M422,-64C422,-64 347,-64 347,-64 341,-64 335,-58 335,-52 335,-52 335,-12 335,-12 335,-6 341,0 347,0 347,0 422,0 422,0 428,0 434,-6 434,-12 434,-12 434,-52 434,-52 434,-58 428,-64 422,-64\"/>\n<text text-anchor=\"start\" x=\"355\" y=\"-49.8\" font-family=\"Helvetica,sans-Serif\" font-size=\"14.00\" fill=\"#000000\">gini = 0.0</text>\n<text text-anchor=\"start\" x=\"345\" y=\"-35.8\" font-family=\"Helvetica,sans-Serif\" font-size=\"14.00\" fill=\"#000000\">samples = 1</text>\n<text text-anchor=\"start\" x=\"343\" y=\"-21.8\" font-family=\"Helvetica,sans-Serif\" font-size=\"14.00\" fill=\"#000000\">value = [0, 1]</text>\n<text text-anchor=\"start\" x=\"352\" y=\"-7.8\" font-family=\"Helvetica,sans-Serif\" font-size=\"14.00\" fill=\"#000000\">class = y</text>\n<text text-anchor=\"start\" x=\"410\" y=\"-7.8\" font-family=\"Helvetica,sans-Serif\" baseline-shift=\"sub\" font-size=\"14.00\" fill=\"#000000\">1</text>\n</g>\n<!-- 12&#45;&gt;13 -->\n<g id=\"edge13\" class=\"edge\">\n<title>12&#45;&gt;13</title>\n<path fill=\"none\" stroke=\"#000000\" d=\"M423.1322,-99.7647C418.1859,-91.0884 412.9317,-81.8721 407.9439,-73.123\"/>\n<polygon fill=\"#000000\" stroke=\"#000000\" points=\"410.8599,-71.1709 402.8666,-64.2169 404.7787,-74.6378 410.8599,-71.1709\"/>\n</g>\n<!-- 14 -->\n<g id=\"node15\" class=\"node\">\n<title>14</title>\n<path fill=\"#e58139\" stroke=\"#000000\" d=\"M547,-64C547,-64 464,-64 464,-64 458,-64 452,-58 452,-52 452,-52 452,-12 452,-12 452,-6 458,0 464,0 464,0 547,0 547,0 553,0 559,-6 559,-12 559,-12 559,-52 559,-52 559,-58 553,-64 547,-64\"/>\n<text text-anchor=\"start\" x=\"476\" y=\"-49.8\" font-family=\"Helvetica,sans-Serif\" font-size=\"14.00\" fill=\"#000000\">gini = 0.0</text>\n<text text-anchor=\"start\" x=\"461.5\" y=\"-35.8\" font-family=\"Helvetica,sans-Serif\" font-size=\"14.00\" fill=\"#000000\">samples = 16</text>\n<text text-anchor=\"start\" x=\"460\" y=\"-21.8\" font-family=\"Helvetica,sans-Serif\" font-size=\"14.00\" fill=\"#000000\">value = [16, 0]</text>\n<text text-anchor=\"start\" x=\"473\" y=\"-7.8\" font-family=\"Helvetica,sans-Serif\" font-size=\"14.00\" fill=\"#000000\">class = y</text>\n<text text-anchor=\"start\" x=\"531\" y=\"-7.8\" font-family=\"Helvetica,sans-Serif\" baseline-shift=\"sub\" font-size=\"14.00\" fill=\"#000000\">0</text>\n</g>\n<!-- 12&#45;&gt;14 -->\n<g id=\"edge14\" class=\"edge\">\n<title>12&#45;&gt;14</title>\n<path fill=\"none\" stroke=\"#000000\" d=\"M467.5011,-99.7647C472.3663,-91.0884 477.5344,-81.8721 482.4404,-73.123\"/>\n<polygon fill=\"#000000\" stroke=\"#000000\" points=\"485.5962,-74.651 487.4345,-64.2169 479.4906,-71.2273 485.5962,-74.651\"/>\n</g>\n<!-- 16 -->\n<g id=\"node17\" class=\"node\">\n<title>16</title>\n<path fill=\"#399de5\" stroke=\"#000000\" d=\"M528,-285C528,-285 453,-285 453,-285 447,-285 441,-279 441,-273 441,-273 441,-233 441,-233 441,-227 447,-221 453,-221 453,-221 528,-221 528,-221 534,-221 540,-227 540,-233 540,-233 540,-273 540,-273 540,-279 534,-285 528,-285\"/>\n<text text-anchor=\"start\" x=\"461\" y=\"-270.8\" font-family=\"Helvetica,sans-Serif\" font-size=\"14.00\" fill=\"#000000\">gini = 0.0</text>\n<text text-anchor=\"start\" x=\"451\" y=\"-256.8\" font-family=\"Helvetica,sans-Serif\" font-size=\"14.00\" fill=\"#000000\">samples = 1</text>\n<text text-anchor=\"start\" x=\"449\" y=\"-242.8\" font-family=\"Helvetica,sans-Serif\" font-size=\"14.00\" fill=\"#000000\">value = [0, 1]</text>\n<text text-anchor=\"start\" x=\"458\" y=\"-228.8\" font-family=\"Helvetica,sans-Serif\" font-size=\"14.00\" fill=\"#000000\">class = y</text>\n<text text-anchor=\"start\" x=\"516\" y=\"-228.8\" font-family=\"Helvetica,sans-Serif\" baseline-shift=\"sub\" font-size=\"14.00\" fill=\"#000000\">1</text>\n</g>\n<!-- 15&#45;&gt;16 -->\n<g id=\"edge16\" class=\"edge\">\n<title>15&#45;&gt;16</title>\n<path fill=\"none\" stroke=\"#000000\" d=\"M496.4027,-327.7677C495.579,-317.3338 494.6856,-306.0174 493.8491,-295.4215\"/>\n<polygon fill=\"#000000\" stroke=\"#000000\" points=\"497.3125,-294.8187 493.0362,-285.1252 490.3342,-295.3697 497.3125,-294.8187\"/>\n</g>\n<!-- 17 -->\n<g id=\"node18\" class=\"node\">\n<title>17</title>\n<path fill=\"#e58139\" stroke=\"#000000\" d=\"M645,-285C645,-285 570,-285 570,-285 564,-285 558,-279 558,-273 558,-273 558,-233 558,-233 558,-227 564,-221 570,-221 570,-221 645,-221 645,-221 651,-221 657,-227 657,-233 657,-233 657,-273 657,-273 657,-279 651,-285 645,-285\"/>\n<text text-anchor=\"start\" x=\"578\" y=\"-270.8\" font-family=\"Helvetica,sans-Serif\" font-size=\"14.00\" fill=\"#000000\">gini = 0.0</text>\n<text text-anchor=\"start\" x=\"568\" y=\"-256.8\" font-family=\"Helvetica,sans-Serif\" font-size=\"14.00\" fill=\"#000000\">samples = 2</text>\n<text text-anchor=\"start\" x=\"566\" y=\"-242.8\" font-family=\"Helvetica,sans-Serif\" font-size=\"14.00\" fill=\"#000000\">value = [2, 0]</text>\n<text text-anchor=\"start\" x=\"575\" y=\"-228.8\" font-family=\"Helvetica,sans-Serif\" font-size=\"14.00\" fill=\"#000000\">class = y</text>\n<text text-anchor=\"start\" x=\"633\" y=\"-228.8\" font-family=\"Helvetica,sans-Serif\" baseline-shift=\"sub\" font-size=\"14.00\" fill=\"#000000\">0</text>\n</g>\n<!-- 15&#45;&gt;17 -->\n<g id=\"edge17\" class=\"edge\">\n<title>15&#45;&gt;17</title>\n<path fill=\"none\" stroke=\"#000000\" d=\"M536.6675,-327.7677C547.4789,-316.3556 559.2905,-303.8878 570.1152,-292.4618\"/>\n<polygon fill=\"#000000\" stroke=\"#000000\" points=\"572.729,-294.7919 577.0656,-285.1252 567.6473,-289.9776 572.729,-294.7919\"/>\n</g>\n<!-- 19 -->\n<g id=\"node20\" class=\"node\">\n<title>19</title>\n<path fill=\"#399de5\" stroke=\"#000000\" d=\"M692,-399C692,-399 617,-399 617,-399 611,-399 605,-393 605,-387 605,-387 605,-347 605,-347 605,-341 611,-335 617,-335 617,-335 692,-335 692,-335 698,-335 704,-341 704,-347 704,-347 704,-387 704,-387 704,-393 698,-399 692,-399\"/>\n<text text-anchor=\"start\" x=\"625\" y=\"-384.8\" font-family=\"Helvetica,sans-Serif\" font-size=\"14.00\" fill=\"#000000\">gini = 0.0</text>\n<text text-anchor=\"start\" x=\"615\" y=\"-370.8\" font-family=\"Helvetica,sans-Serif\" font-size=\"14.00\" fill=\"#000000\">samples = 1</text>\n<text text-anchor=\"start\" x=\"613\" y=\"-356.8\" font-family=\"Helvetica,sans-Serif\" font-size=\"14.00\" fill=\"#000000\">value = [0, 1]</text>\n<text text-anchor=\"start\" x=\"622\" y=\"-342.8\" font-family=\"Helvetica,sans-Serif\" font-size=\"14.00\" fill=\"#000000\">class = y</text>\n<text text-anchor=\"start\" x=\"680\" y=\"-342.8\" font-family=\"Helvetica,sans-Serif\" baseline-shift=\"sub\" font-size=\"14.00\" fill=\"#000000\">1</text>\n</g>\n<!-- 18&#45;&gt;19 -->\n<g id=\"edge19\" class=\"edge\">\n<title>18&#45;&gt;19</title>\n<path fill=\"none\" stroke=\"#000000\" d=\"M658.4351,-441.7677C657.886,-431.3338 657.2904,-420.0174 656.7327,-409.4215\"/>\n<polygon fill=\"#000000\" stroke=\"#000000\" points=\"660.2116,-408.9274 656.1908,-399.1252 653.2213,-409.2954 660.2116,-408.9274\"/>\n</g>\n<!-- 20 -->\n<g id=\"node21\" class=\"node\">\n<title>20</title>\n<path fill=\"#e58139\" stroke=\"#000000\" d=\"M809,-399C809,-399 734,-399 734,-399 728,-399 722,-393 722,-387 722,-387 722,-347 722,-347 722,-341 728,-335 734,-335 734,-335 809,-335 809,-335 815,-335 821,-341 821,-347 821,-347 821,-387 821,-387 821,-393 815,-399 809,-399\"/>\n<text text-anchor=\"start\" x=\"742\" y=\"-384.8\" font-family=\"Helvetica,sans-Serif\" font-size=\"14.00\" fill=\"#000000\">gini = 0.0</text>\n<text text-anchor=\"start\" x=\"732\" y=\"-370.8\" font-family=\"Helvetica,sans-Serif\" font-size=\"14.00\" fill=\"#000000\">samples = 2</text>\n<text text-anchor=\"start\" x=\"730\" y=\"-356.8\" font-family=\"Helvetica,sans-Serif\" font-size=\"14.00\" fill=\"#000000\">value = [2, 0]</text>\n<text text-anchor=\"start\" x=\"739\" y=\"-342.8\" font-family=\"Helvetica,sans-Serif\" font-size=\"14.00\" fill=\"#000000\">class = y</text>\n<text text-anchor=\"start\" x=\"797\" y=\"-342.8\" font-family=\"Helvetica,sans-Serif\" baseline-shift=\"sub\" font-size=\"14.00\" fill=\"#000000\">0</text>\n</g>\n<!-- 18&#45;&gt;20 -->\n<g id=\"edge20\" class=\"edge\">\n<title>18&#45;&gt;20</title>\n<path fill=\"none\" stroke=\"#000000\" d=\"M698.6999,-441.7677C709.8116,-430.3556 721.9513,-417.8878 733.0767,-406.4618\"/>\n<polygon fill=\"#000000\" stroke=\"#000000\" points=\"735.7517,-408.7316 740.2202,-399.1252 730.7363,-403.8483 735.7517,-408.7316\"/>\n</g>\n<!-- 23 -->\n<g id=\"node24\" class=\"node\">\n<title>23</title>\n<path fill=\"#399de5\" stroke=\"#000000\" d=\"M905,-627C905,-627 830,-627 830,-627 824,-627 818,-621 818,-615 818,-615 818,-575 818,-575 818,-569 824,-563 830,-563 830,-563 905,-563 905,-563 911,-563 917,-569 917,-575 917,-575 917,-615 917,-615 917,-621 911,-627 905,-627\"/>\n<text text-anchor=\"start\" x=\"838\" y=\"-612.8\" font-family=\"Helvetica,sans-Serif\" font-size=\"14.00\" fill=\"#000000\">gini = 0.0</text>\n<text text-anchor=\"start\" x=\"828\" y=\"-598.8\" font-family=\"Helvetica,sans-Serif\" font-size=\"14.00\" fill=\"#000000\">samples = 4</text>\n<text text-anchor=\"start\" x=\"826\" y=\"-584.8\" font-family=\"Helvetica,sans-Serif\" font-size=\"14.00\" fill=\"#000000\">value = [0, 4]</text>\n<text text-anchor=\"start\" x=\"835\" y=\"-570.8\" font-family=\"Helvetica,sans-Serif\" font-size=\"14.00\" fill=\"#000000\">class = y</text>\n<text text-anchor=\"start\" x=\"893\" y=\"-570.8\" font-family=\"Helvetica,sans-Serif\" baseline-shift=\"sub\" font-size=\"14.00\" fill=\"#000000\">1</text>\n</g>\n<!-- 22&#45;&gt;23 -->\n<g id=\"edge23\" class=\"edge\">\n<title>22&#45;&gt;23</title>\n<path fill=\"none\" stroke=\"#000000\" d=\"M874.0586,-669.7677C873.1338,-659.2251 872.13,-647.7816 871.1922,-637.0907\"/>\n<polygon fill=\"#000000\" stroke=\"#000000\" points=\"874.6785,-636.7811 870.318,-627.1252 867.7053,-637.3928 874.6785,-636.7811\"/>\n</g>\n<!-- 24 -->\n<g id=\"node25\" class=\"node\">\n<title>24</title>\n<path fill=\"#e99457\" stroke=\"#000000\" d=\"M1077.5,-634C1077.5,-634 947.5,-634 947.5,-634 941.5,-634 935.5,-628 935.5,-622 935.5,-622 935.5,-568 935.5,-568 935.5,-562 941.5,-556 947.5,-556 947.5,-556 1077.5,-556 1077.5,-556 1083.5,-556 1089.5,-562 1089.5,-568 1089.5,-568 1089.5,-622 1089.5,-622 1089.5,-628 1083.5,-634 1077.5,-634\"/>\n<text text-anchor=\"start\" x=\"943.5\" y=\"-619.8\" font-family=\"Helvetica,sans-Serif\" font-size=\"14.00\" fill=\"#000000\">concavity_se ≤ 0.044</text>\n<text text-anchor=\"start\" x=\"974.5\" y=\"-605.8\" font-family=\"Helvetica,sans-Serif\" font-size=\"14.00\" fill=\"#000000\">gini = 0.231</text>\n<text text-anchor=\"start\" x=\"968.5\" y=\"-591.8\" font-family=\"Helvetica,sans-Serif\" font-size=\"14.00\" fill=\"#000000\">samples = 15</text>\n<text text-anchor=\"start\" x=\"967\" y=\"-577.8\" font-family=\"Helvetica,sans-Serif\" font-size=\"14.00\" fill=\"#000000\">value = [13, 2]</text>\n<text text-anchor=\"start\" x=\"980\" y=\"-563.8\" font-family=\"Helvetica,sans-Serif\" font-size=\"14.00\" fill=\"#000000\">class = y</text>\n<text text-anchor=\"start\" x=\"1038\" y=\"-563.8\" font-family=\"Helvetica,sans-Serif\" baseline-shift=\"sub\" font-size=\"14.00\" fill=\"#000000\">0</text>\n</g>\n<!-- 22&#45;&gt;24 -->\n<g id=\"edge24\" class=\"edge\">\n<title>22&#45;&gt;24</title>\n<path fill=\"none\" stroke=\"#000000\" d=\"M923.9593,-669.7677C934.99,-660.4529 946.8536,-650.4347 958.1995,-640.8538\"/>\n<polygon fill=\"#000000\" stroke=\"#000000\" points=\"960.5728,-643.4306 965.955,-634.3046 956.0566,-638.0824 960.5728,-643.4306\"/>\n</g>\n<!-- 25 -->\n<g id=\"node26\" class=\"node\">\n<title>25</title>\n<path fill=\"#e58139\" stroke=\"#000000\" d=\"M994,-513C994,-513 911,-513 911,-513 905,-513 899,-507 899,-501 899,-501 899,-461 899,-461 899,-455 905,-449 911,-449 911,-449 994,-449 994,-449 1000,-449 1006,-455 1006,-461 1006,-461 1006,-501 1006,-501 1006,-507 1000,-513 994,-513\"/>\n<text text-anchor=\"start\" x=\"923\" y=\"-498.8\" font-family=\"Helvetica,sans-Serif\" font-size=\"14.00\" fill=\"#000000\">gini = 0.0</text>\n<text text-anchor=\"start\" x=\"908.5\" y=\"-484.8\" font-family=\"Helvetica,sans-Serif\" font-size=\"14.00\" fill=\"#000000\">samples = 13</text>\n<text text-anchor=\"start\" x=\"907\" y=\"-470.8\" font-family=\"Helvetica,sans-Serif\" font-size=\"14.00\" fill=\"#000000\">value = [13, 0]</text>\n<text text-anchor=\"start\" x=\"920\" y=\"-456.8\" font-family=\"Helvetica,sans-Serif\" font-size=\"14.00\" fill=\"#000000\">class = y</text>\n<text text-anchor=\"start\" x=\"978\" y=\"-456.8\" font-family=\"Helvetica,sans-Serif\" baseline-shift=\"sub\" font-size=\"14.00\" fill=\"#000000\">0</text>\n</g>\n<!-- 24&#45;&gt;25 -->\n<g id=\"edge25\" class=\"edge\">\n<title>24&#45;&gt;25</title>\n<path fill=\"none\" stroke=\"#000000\" d=\"M991.8514,-555.7677C986.1311,-544.8991 979.9068,-533.0729 974.1321,-522.1009\"/>\n<polygon fill=\"#000000\" stroke=\"#000000\" points=\"977.1627,-520.3443 969.408,-513.1252 970.9683,-523.6045 977.1627,-520.3443\"/>\n</g>\n<!-- 26 -->\n<g id=\"node27\" class=\"node\">\n<title>26</title>\n<path fill=\"#399de5\" stroke=\"#000000\" d=\"M1111,-513C1111,-513 1036,-513 1036,-513 1030,-513 1024,-507 1024,-501 1024,-501 1024,-461 1024,-461 1024,-455 1030,-449 1036,-449 1036,-449 1111,-449 1111,-449 1117,-449 1123,-455 1123,-461 1123,-461 1123,-501 1123,-501 1123,-507 1117,-513 1111,-513\"/>\n<text text-anchor=\"start\" x=\"1044\" y=\"-498.8\" font-family=\"Helvetica,sans-Serif\" font-size=\"14.00\" fill=\"#000000\">gini = 0.0</text>\n<text text-anchor=\"start\" x=\"1034\" y=\"-484.8\" font-family=\"Helvetica,sans-Serif\" font-size=\"14.00\" fill=\"#000000\">samples = 2</text>\n<text text-anchor=\"start\" x=\"1032\" y=\"-470.8\" font-family=\"Helvetica,sans-Serif\" font-size=\"14.00\" fill=\"#000000\">value = [0, 2]</text>\n<text text-anchor=\"start\" x=\"1041\" y=\"-456.8\" font-family=\"Helvetica,sans-Serif\" font-size=\"14.00\" fill=\"#000000\">class = y</text>\n<text text-anchor=\"start\" x=\"1099\" y=\"-456.8\" font-family=\"Helvetica,sans-Serif\" baseline-shift=\"sub\" font-size=\"14.00\" fill=\"#000000\">1</text>\n</g>\n<!-- 24&#45;&gt;26 -->\n<g id=\"edge26\" class=\"edge\">\n<title>24&#45;&gt;26</title>\n<path fill=\"none\" stroke=\"#000000\" d=\"M1033.4927,-555.7677C1039.3084,-544.8991 1045.6365,-533.0729 1051.5074,-522.1009\"/>\n<polygon fill=\"#000000\" stroke=\"#000000\" points=\"1054.6782,-523.5936 1056.3102,-513.1252 1048.5062,-520.291 1054.6782,-523.5936\"/>\n</g>\n<!-- 28 -->\n<g id=\"node29\" class=\"node\">\n<title>28</title>\n<path fill=\"#e58139\" stroke=\"#000000\" d=\"M1054,-741C1054,-741 979,-741 979,-741 973,-741 967,-735 967,-729 967,-729 967,-689 967,-689 967,-683 973,-677 979,-677 979,-677 1054,-677 1054,-677 1060,-677 1066,-683 1066,-689 1066,-689 1066,-729 1066,-729 1066,-735 1060,-741 1054,-741\"/>\n<text text-anchor=\"start\" x=\"987\" y=\"-726.8\" font-family=\"Helvetica,sans-Serif\" font-size=\"14.00\" fill=\"#000000\">gini = 0.0</text>\n<text text-anchor=\"start\" x=\"977\" y=\"-712.8\" font-family=\"Helvetica,sans-Serif\" font-size=\"14.00\" fill=\"#000000\">samples = 2</text>\n<text text-anchor=\"start\" x=\"975\" y=\"-698.8\" font-family=\"Helvetica,sans-Serif\" font-size=\"14.00\" fill=\"#000000\">value = [2, 0]</text>\n<text text-anchor=\"start\" x=\"984\" y=\"-684.8\" font-family=\"Helvetica,sans-Serif\" font-size=\"14.00\" fill=\"#000000\">class = y</text>\n<text text-anchor=\"start\" x=\"1042\" y=\"-684.8\" font-family=\"Helvetica,sans-Serif\" baseline-shift=\"sub\" font-size=\"14.00\" fill=\"#000000\">0</text>\n</g>\n<!-- 27&#45;&gt;28 -->\n<g id=\"edge28\" class=\"edge\">\n<title>27&#45;&gt;28</title>\n<path fill=\"none\" stroke=\"#000000\" d=\"M1056.5073,-783.7677C1050.6916,-772.8991 1044.3635,-761.0729 1038.4926,-750.1009\"/>\n<polygon fill=\"#000000\" stroke=\"#000000\" points=\"1041.4938,-748.291 1033.6898,-741.1252 1035.3218,-751.5936 1041.4938,-748.291\"/>\n</g>\n<!-- 29 -->\n<g id=\"node30\" class=\"node\">\n<title>29</title>\n<path fill=\"#399de5\" stroke=\"#000000\" d=\"M1179,-741C1179,-741 1096,-741 1096,-741 1090,-741 1084,-735 1084,-729 1084,-729 1084,-689 1084,-689 1084,-683 1090,-677 1096,-677 1096,-677 1179,-677 1179,-677 1185,-677 1191,-683 1191,-689 1191,-689 1191,-729 1191,-729 1191,-735 1185,-741 1179,-741\"/>\n<text text-anchor=\"start\" x=\"1108\" y=\"-726.8\" font-family=\"Helvetica,sans-Serif\" font-size=\"14.00\" fill=\"#000000\">gini = 0.0</text>\n<text text-anchor=\"start\" x=\"1093.5\" y=\"-712.8\" font-family=\"Helvetica,sans-Serif\" font-size=\"14.00\" fill=\"#000000\">samples = 13</text>\n<text text-anchor=\"start\" x=\"1092\" y=\"-698.8\" font-family=\"Helvetica,sans-Serif\" font-size=\"14.00\" fill=\"#000000\">value = [0, 13]</text>\n<text text-anchor=\"start\" x=\"1105\" y=\"-684.8\" font-family=\"Helvetica,sans-Serif\" font-size=\"14.00\" fill=\"#000000\">class = y</text>\n<text text-anchor=\"start\" x=\"1163\" y=\"-684.8\" font-family=\"Helvetica,sans-Serif\" baseline-shift=\"sub\" font-size=\"14.00\" fill=\"#000000\">1</text>\n</g>\n<!-- 27&#45;&gt;29 -->\n<g id=\"edge29\" class=\"edge\">\n<title>27&#45;&gt;29</title>\n<path fill=\"none\" stroke=\"#000000\" d=\"M1098.1486,-783.7677C1103.8689,-772.8991 1110.0932,-761.0729 1115.8679,-750.1009\"/>\n<polygon fill=\"#000000\" stroke=\"#000000\" points=\"1119.0317,-751.6045 1120.592,-741.1252 1112.8373,-748.3443 1119.0317,-751.6045\"/>\n</g>\n<!-- 31 -->\n<g id=\"node32\" class=\"node\">\n<title>31</title>\n<path fill=\"#f8e0ce\" stroke=\"#000000\" d=\"M1372,-862C1372,-862 1203,-862 1203,-862 1197,-862 1191,-856 1191,-850 1191,-850 1191,-796 1191,-796 1191,-790 1197,-784 1203,-784 1203,-784 1372,-784 1372,-784 1378,-784 1384,-790 1384,-796 1384,-796 1384,-850 1384,-850 1384,-856 1378,-862 1372,-862\"/>\n<text text-anchor=\"start\" x=\"1199\" y=\"-847.8\" font-family=\"Helvetica,sans-Serif\" font-size=\"14.00\" fill=\"#000000\">smoothness_mean ≤ 0.108</text>\n<text text-anchor=\"start\" x=\"1254\" y=\"-833.8\" font-family=\"Helvetica,sans-Serif\" font-size=\"14.00\" fill=\"#000000\">gini = 0.49</text>\n<text text-anchor=\"start\" x=\"1243.5\" y=\"-819.8\" font-family=\"Helvetica,sans-Serif\" font-size=\"14.00\" fill=\"#000000\">samples = 14</text>\n<text text-anchor=\"start\" x=\"1246\" y=\"-805.8\" font-family=\"Helvetica,sans-Serif\" font-size=\"14.00\" fill=\"#000000\">value = [8, 6]</text>\n<text text-anchor=\"start\" x=\"1255\" y=\"-791.8\" font-family=\"Helvetica,sans-Serif\" font-size=\"14.00\" fill=\"#000000\">class = y</text>\n<text text-anchor=\"start\" x=\"1313\" y=\"-791.8\" font-family=\"Helvetica,sans-Serif\" baseline-shift=\"sub\" font-size=\"14.00\" fill=\"#000000\">0</text>\n</g>\n<!-- 30&#45;&gt;31 -->\n<g id=\"edge31\" class=\"edge\">\n<title>30&#45;&gt;31</title>\n<path fill=\"none\" stroke=\"#000000\" d=\"M1287.5,-897.7677C1287.5,-889.6172 1287.5,-880.9283 1287.5,-872.4649\"/>\n<polygon fill=\"#000000\" stroke=\"#000000\" points=\"1291.0001,-872.3046 1287.5,-862.3046 1284.0001,-872.3047 1291.0001,-872.3046\"/>\n</g>\n<!-- 34 -->\n<g id=\"node35\" class=\"node\">\n<title>34</title>\n<path fill=\"#3d9fe6\" stroke=\"#000000\" d=\"M1567,-862C1567,-862 1418,-862 1418,-862 1412,-862 1406,-856 1406,-850 1406,-850 1406,-796 1406,-796 1406,-790 1412,-784 1418,-784 1418,-784 1567,-784 1567,-784 1573,-784 1579,-790 1579,-796 1579,-796 1579,-850 1579,-850 1579,-856 1573,-862 1567,-862\"/>\n<text text-anchor=\"start\" x=\"1414\" y=\"-847.8\" font-family=\"Helvetica,sans-Serif\" font-size=\"14.00\" fill=\"#000000\">concavity_worst ≤ 0.203</text>\n<text text-anchor=\"start\" x=\"1454.5\" y=\"-833.8\" font-family=\"Helvetica,sans-Serif\" font-size=\"14.00\" fill=\"#000000\">gini = 0.043</text>\n<text text-anchor=\"start\" x=\"1444.5\" y=\"-819.8\" font-family=\"Helvetica,sans-Serif\" font-size=\"14.00\" fill=\"#000000\">samples = 138</text>\n<text text-anchor=\"start\" x=\"1442.5\" y=\"-805.8\" font-family=\"Helvetica,sans-Serif\" font-size=\"14.00\" fill=\"#000000\">value = [3, 135]</text>\n<text text-anchor=\"start\" x=\"1460\" y=\"-791.8\" font-family=\"Helvetica,sans-Serif\" font-size=\"14.00\" fill=\"#000000\">class = y</text>\n<text text-anchor=\"start\" x=\"1518\" y=\"-791.8\" font-family=\"Helvetica,sans-Serif\" baseline-shift=\"sub\" font-size=\"14.00\" fill=\"#000000\">1</text>\n</g>\n<!-- 30&#45;&gt;34 -->\n<g id=\"edge34\" class=\"edge\">\n<title>30&#45;&gt;34</title>\n<path fill=\"none\" stroke=\"#000000\" d=\"M1357.7626,-897.9272C1375.6916,-887.9569 1395.0858,-877.1718 1413.4232,-866.9744\"/>\n<polygon fill=\"#000000\" stroke=\"#000000\" points=\"1415.2907,-869.9407 1422.3293,-862.0218 1411.8886,-863.823 1415.2907,-869.9407\"/>\n</g>\n<!-- 32 -->\n<g id=\"node33\" class=\"node\">\n<title>32</title>\n<path fill=\"#e58139\" stroke=\"#000000\" d=\"M1296,-741C1296,-741 1221,-741 1221,-741 1215,-741 1209,-735 1209,-729 1209,-729 1209,-689 1209,-689 1209,-683 1215,-677 1221,-677 1221,-677 1296,-677 1296,-677 1302,-677 1308,-683 1308,-689 1308,-689 1308,-729 1308,-729 1308,-735 1302,-741 1296,-741\"/>\n<text text-anchor=\"start\" x=\"1229\" y=\"-726.8\" font-family=\"Helvetica,sans-Serif\" font-size=\"14.00\" fill=\"#000000\">gini = 0.0</text>\n<text text-anchor=\"start\" x=\"1219\" y=\"-712.8\" font-family=\"Helvetica,sans-Serif\" font-size=\"14.00\" fill=\"#000000\">samples = 8</text>\n<text text-anchor=\"start\" x=\"1217\" y=\"-698.8\" font-family=\"Helvetica,sans-Serif\" font-size=\"14.00\" fill=\"#000000\">value = [8, 0]</text>\n<text text-anchor=\"start\" x=\"1226\" y=\"-684.8\" font-family=\"Helvetica,sans-Serif\" font-size=\"14.00\" fill=\"#000000\">class = y</text>\n<text text-anchor=\"start\" x=\"1284\" y=\"-684.8\" font-family=\"Helvetica,sans-Serif\" baseline-shift=\"sub\" font-size=\"14.00\" fill=\"#000000\">0</text>\n</g>\n<!-- 31&#45;&gt;32 -->\n<g id=\"edge32\" class=\"edge\">\n<title>31&#45;&gt;32</title>\n<path fill=\"none\" stroke=\"#000000\" d=\"M1277.5198,-783.7677C1274.838,-773.2251 1271.9269,-761.7816 1269.2073,-751.0907\"/>\n<polygon fill=\"#000000\" stroke=\"#000000\" points=\"1272.5296,-749.9536 1266.6722,-741.1252 1265.7456,-751.6794 1272.5296,-749.9536\"/>\n</g>\n<!-- 33 -->\n<g id=\"node34\" class=\"node\">\n<title>33</title>\n<path fill=\"#399de5\" stroke=\"#000000\" d=\"M1413,-741C1413,-741 1338,-741 1338,-741 1332,-741 1326,-735 1326,-729 1326,-729 1326,-689 1326,-689 1326,-683 1332,-677 1338,-677 1338,-677 1413,-677 1413,-677 1419,-677 1425,-683 1425,-689 1425,-689 1425,-729 1425,-729 1425,-735 1419,-741 1413,-741\"/>\n<text text-anchor=\"start\" x=\"1346\" y=\"-726.8\" font-family=\"Helvetica,sans-Serif\" font-size=\"14.00\" fill=\"#000000\">gini = 0.0</text>\n<text text-anchor=\"start\" x=\"1336\" y=\"-712.8\" font-family=\"Helvetica,sans-Serif\" font-size=\"14.00\" fill=\"#000000\">samples = 6</text>\n<text text-anchor=\"start\" x=\"1334\" y=\"-698.8\" font-family=\"Helvetica,sans-Serif\" font-size=\"14.00\" fill=\"#000000\">value = [0, 6]</text>\n<text text-anchor=\"start\" x=\"1343\" y=\"-684.8\" font-family=\"Helvetica,sans-Serif\" font-size=\"14.00\" fill=\"#000000\">class = y</text>\n<text text-anchor=\"start\" x=\"1401\" y=\"-684.8\" font-family=\"Helvetica,sans-Serif\" baseline-shift=\"sub\" font-size=\"14.00\" fill=\"#000000\">1</text>\n</g>\n<!-- 31&#45;&gt;33 -->\n<g id=\"edge33\" class=\"edge\">\n<title>31&#45;&gt;33</title>\n<path fill=\"none\" stroke=\"#000000\" d=\"M1317.7846,-783.7677C1326.4261,-772.573 1335.8518,-760.3624 1344.5334,-749.1158\"/>\n<polygon fill=\"#000000\" stroke=\"#000000\" points=\"1347.3616,-751.1798 1350.7016,-741.1252 1341.8205,-746.9024 1347.3616,-751.1798\"/>\n</g>\n<!-- 35 -->\n<g id=\"node36\" class=\"node\">\n<title>35</title>\n<path fill=\"#e58139\" stroke=\"#000000\" d=\"M1530,-741C1530,-741 1455,-741 1455,-741 1449,-741 1443,-735 1443,-729 1443,-729 1443,-689 1443,-689 1443,-683 1449,-677 1455,-677 1455,-677 1530,-677 1530,-677 1536,-677 1542,-683 1542,-689 1542,-689 1542,-729 1542,-729 1542,-735 1536,-741 1530,-741\"/>\n<text text-anchor=\"start\" x=\"1463\" y=\"-726.8\" font-family=\"Helvetica,sans-Serif\" font-size=\"14.00\" fill=\"#000000\">gini = 0.0</text>\n<text text-anchor=\"start\" x=\"1453\" y=\"-712.8\" font-family=\"Helvetica,sans-Serif\" font-size=\"14.00\" fill=\"#000000\">samples = 1</text>\n<text text-anchor=\"start\" x=\"1451\" y=\"-698.8\" font-family=\"Helvetica,sans-Serif\" font-size=\"14.00\" fill=\"#000000\">value = [1, 0]</text>\n<text text-anchor=\"start\" x=\"1460\" y=\"-684.8\" font-family=\"Helvetica,sans-Serif\" font-size=\"14.00\" fill=\"#000000\">class = y</text>\n<text text-anchor=\"start\" x=\"1518\" y=\"-684.8\" font-family=\"Helvetica,sans-Serif\" baseline-shift=\"sub\" font-size=\"14.00\" fill=\"#000000\">0</text>\n</g>\n<!-- 34&#45;&gt;35 -->\n<g id=\"edge35\" class=\"edge\">\n<title>34&#45;&gt;35</title>\n<path fill=\"none\" stroke=\"#000000\" d=\"M1492.5,-783.7677C1492.5,-773.3338 1492.5,-762.0174 1492.5,-751.4215\"/>\n<polygon fill=\"#000000\" stroke=\"#000000\" points=\"1496.0001,-751.1252 1492.5,-741.1252 1489.0001,-751.1252 1496.0001,-751.1252\"/>\n</g>\n<!-- 36 -->\n<g id=\"node37\" class=\"node\">\n<title>36</title>\n<path fill=\"#3c9ee5\" stroke=\"#000000\" d=\"M1701,-748C1701,-748 1572,-748 1572,-748 1566,-748 1560,-742 1560,-736 1560,-736 1560,-682 1560,-682 1560,-676 1566,-670 1572,-670 1572,-670 1701,-670 1701,-670 1707,-670 1713,-676 1713,-682 1713,-682 1713,-736 1713,-736 1713,-742 1707,-748 1701,-748\"/>\n<text text-anchor=\"start\" x=\"1568\" y=\"-733.8\" font-family=\"Helvetica,sans-Serif\" font-size=\"14.00\" fill=\"#000000\">perimeter_se ≤ 1.238</text>\n<text text-anchor=\"start\" x=\"1598.5\" y=\"-719.8\" font-family=\"Helvetica,sans-Serif\" font-size=\"14.00\" fill=\"#000000\">gini = 0.029</text>\n<text text-anchor=\"start\" x=\"1588.5\" y=\"-705.8\" font-family=\"Helvetica,sans-Serif\" font-size=\"14.00\" fill=\"#000000\">samples = 137</text>\n<text text-anchor=\"start\" x=\"1586.5\" y=\"-691.8\" font-family=\"Helvetica,sans-Serif\" font-size=\"14.00\" fill=\"#000000\">value = [2, 135]</text>\n<text text-anchor=\"start\" x=\"1604\" y=\"-677.8\" font-family=\"Helvetica,sans-Serif\" font-size=\"14.00\" fill=\"#000000\">class = y</text>\n<text text-anchor=\"start\" x=\"1662\" y=\"-677.8\" font-family=\"Helvetica,sans-Serif\" baseline-shift=\"sub\" font-size=\"14.00\" fill=\"#000000\">1</text>\n</g>\n<!-- 34&#45;&gt;36 -->\n<g id=\"edge36\" class=\"edge\">\n<title>34&#45;&gt;36</title>\n<path fill=\"none\" stroke=\"#000000\" d=\"M1542.0566,-783.7677C1553.9358,-774.3633 1566.7207,-764.242 1578.9284,-754.5775\"/>\n<polygon fill=\"#000000\" stroke=\"#000000\" points=\"1581.184,-757.2559 1586.852,-748.3046 1576.8391,-751.7675 1581.184,-757.2559\"/>\n</g>\n<!-- 37 -->\n<g id=\"node38\" class=\"node\">\n<title>37</title>\n<path fill=\"#e58139\" stroke=\"#000000\" d=\"M1600,-627C1600,-627 1525,-627 1525,-627 1519,-627 1513,-621 1513,-615 1513,-615 1513,-575 1513,-575 1513,-569 1519,-563 1525,-563 1525,-563 1600,-563 1600,-563 1606,-563 1612,-569 1612,-575 1612,-575 1612,-615 1612,-615 1612,-621 1606,-627 1600,-627\"/>\n<text text-anchor=\"start\" x=\"1533\" y=\"-612.8\" font-family=\"Helvetica,sans-Serif\" font-size=\"14.00\" fill=\"#000000\">gini = 0.0</text>\n<text text-anchor=\"start\" x=\"1523\" y=\"-598.8\" font-family=\"Helvetica,sans-Serif\" font-size=\"14.00\" fill=\"#000000\">samples = 1</text>\n<text text-anchor=\"start\" x=\"1521\" y=\"-584.8\" font-family=\"Helvetica,sans-Serif\" font-size=\"14.00\" fill=\"#000000\">value = [1, 0]</text>\n<text text-anchor=\"start\" x=\"1530\" y=\"-570.8\" font-family=\"Helvetica,sans-Serif\" font-size=\"14.00\" fill=\"#000000\">class = y</text>\n<text text-anchor=\"start\" x=\"1588\" y=\"-570.8\" font-family=\"Helvetica,sans-Serif\" baseline-shift=\"sub\" font-size=\"14.00\" fill=\"#000000\">0</text>\n</g>\n<!-- 36&#45;&gt;37 -->\n<g id=\"edge37\" class=\"edge\">\n<title>36&#45;&gt;37</title>\n<path fill=\"none\" stroke=\"#000000\" d=\"M1611.0334,-669.7677C1603.9078,-658.7904 1596.1481,-646.8362 1588.9661,-635.772\"/>\n<polygon fill=\"#000000\" stroke=\"#000000\" points=\"1591.7337,-633.6073 1583.3532,-627.1252 1585.8622,-637.4187 1591.7337,-633.6073\"/>\n</g>\n<!-- 38 -->\n<g id=\"node39\" class=\"node\">\n<title>38</title>\n<path fill=\"#3a9ee5\" stroke=\"#000000\" d=\"M1776.5,-634C1776.5,-634 1642.5,-634 1642.5,-634 1636.5,-634 1630.5,-628 1630.5,-622 1630.5,-622 1630.5,-568 1630.5,-568 1630.5,-562 1636.5,-556 1642.5,-556 1642.5,-556 1776.5,-556 1776.5,-556 1782.5,-556 1788.5,-562 1788.5,-568 1788.5,-568 1788.5,-622 1788.5,-622 1788.5,-628 1782.5,-634 1776.5,-634\"/>\n<text text-anchor=\"start\" x=\"1638.5\" y=\"-619.8\" font-family=\"Helvetica,sans-Serif\" font-size=\"14.00\" fill=\"#000000\">texture_mean ≤ 15.37</text>\n<text text-anchor=\"start\" x=\"1671.5\" y=\"-605.8\" font-family=\"Helvetica,sans-Serif\" font-size=\"14.00\" fill=\"#000000\">gini = 0.015</text>\n<text text-anchor=\"start\" x=\"1661.5\" y=\"-591.8\" font-family=\"Helvetica,sans-Serif\" font-size=\"14.00\" fill=\"#000000\">samples = 136</text>\n<text text-anchor=\"start\" x=\"1659.5\" y=\"-577.8\" font-family=\"Helvetica,sans-Serif\" font-size=\"14.00\" fill=\"#000000\">value = [1, 135]</text>\n<text text-anchor=\"start\" x=\"1677\" y=\"-563.8\" font-family=\"Helvetica,sans-Serif\" font-size=\"14.00\" fill=\"#000000\">class = y</text>\n<text text-anchor=\"start\" x=\"1735\" y=\"-563.8\" font-family=\"Helvetica,sans-Serif\" baseline-shift=\"sub\" font-size=\"14.00\" fill=\"#000000\">1</text>\n</g>\n<!-- 36&#45;&gt;38 -->\n<g id=\"edge38\" class=\"edge\">\n<title>36&#45;&gt;38</title>\n<path fill=\"none\" stroke=\"#000000\" d=\"M1661.6225,-669.7677C1667.1857,-661.0798 1673.1408,-651.7801 1678.8951,-642.794\"/>\n<polygon fill=\"#000000\" stroke=\"#000000\" points=\"1681.886,-644.6135 1684.3312,-634.3046 1675.9911,-640.8386 1681.886,-644.6135\"/>\n</g>\n<!-- 39 -->\n<g id=\"node40\" class=\"node\">\n<title>39</title>\n<path fill=\"#6ab6ec\" stroke=\"#000000\" d=\"M1709.5,-520C1709.5,-520 1533.5,-520 1533.5,-520 1527.5,-520 1521.5,-514 1521.5,-508 1521.5,-508 1521.5,-454 1521.5,-454 1521.5,-448 1527.5,-442 1533.5,-442 1533.5,-442 1709.5,-442 1709.5,-442 1715.5,-442 1721.5,-448 1721.5,-454 1721.5,-454 1721.5,-508 1721.5,-508 1721.5,-514 1715.5,-520 1709.5,-520\"/>\n<text text-anchor=\"start\" x=\"1529.5\" y=\"-505.8\" font-family=\"Helvetica,sans-Serif\" font-size=\"14.00\" fill=\"#000000\">compactness_mean ≤ 0.109</text>\n<text text-anchor=\"start\" x=\"1588\" y=\"-491.8\" font-family=\"Helvetica,sans-Serif\" font-size=\"14.00\" fill=\"#000000\">gini = 0.32</text>\n<text text-anchor=\"start\" x=\"1582\" y=\"-477.8\" font-family=\"Helvetica,sans-Serif\" font-size=\"14.00\" fill=\"#000000\">samples = 5</text>\n<text text-anchor=\"start\" x=\"1580\" y=\"-463.8\" font-family=\"Helvetica,sans-Serif\" font-size=\"14.00\" fill=\"#000000\">value = [1, 4]</text>\n<text text-anchor=\"start\" x=\"1589\" y=\"-449.8\" font-family=\"Helvetica,sans-Serif\" font-size=\"14.00\" fill=\"#000000\">class = y</text>\n<text text-anchor=\"start\" x=\"1647\" y=\"-449.8\" font-family=\"Helvetica,sans-Serif\" baseline-shift=\"sub\" font-size=\"14.00\" fill=\"#000000\">1</text>\n</g>\n<!-- 38&#45;&gt;39 -->\n<g id=\"edge39\" class=\"edge\">\n<title>38&#45;&gt;39</title>\n<path fill=\"none\" stroke=\"#000000\" d=\"M1679.2154,-555.7677C1672.3707,-546.9007 1665.034,-537.3964 1657.9648,-528.2385\"/>\n<polygon fill=\"#000000\" stroke=\"#000000\" points=\"1660.7216,-526.0819 1651.8404,-520.3046 1655.1804,-530.3593 1660.7216,-526.0819\"/>\n</g>\n<!-- 42 -->\n<g id=\"node43\" class=\"node\">\n<title>42</title>\n<path fill=\"#399de5\" stroke=\"#000000\" d=\"M1843.5,-513C1843.5,-513 1751.5,-513 1751.5,-513 1745.5,-513 1739.5,-507 1739.5,-501 1739.5,-501 1739.5,-461 1739.5,-461 1739.5,-455 1745.5,-449 1751.5,-449 1751.5,-449 1843.5,-449 1843.5,-449 1849.5,-449 1855.5,-455 1855.5,-461 1855.5,-461 1855.5,-501 1855.5,-501 1855.5,-507 1849.5,-513 1843.5,-513\"/>\n<text text-anchor=\"start\" x=\"1768\" y=\"-498.8\" font-family=\"Helvetica,sans-Serif\" font-size=\"14.00\" fill=\"#000000\">gini = 0.0</text>\n<text text-anchor=\"start\" x=\"1749.5\" y=\"-484.8\" font-family=\"Helvetica,sans-Serif\" font-size=\"14.00\" fill=\"#000000\">samples = 131</text>\n<text text-anchor=\"start\" x=\"1747.5\" y=\"-470.8\" font-family=\"Helvetica,sans-Serif\" font-size=\"14.00\" fill=\"#000000\">value = [0, 131]</text>\n<text text-anchor=\"start\" x=\"1765\" y=\"-456.8\" font-family=\"Helvetica,sans-Serif\" font-size=\"14.00\" fill=\"#000000\">class = y</text>\n<text text-anchor=\"start\" x=\"1823\" y=\"-456.8\" font-family=\"Helvetica,sans-Serif\" baseline-shift=\"sub\" font-size=\"14.00\" fill=\"#000000\">1</text>\n</g>\n<!-- 38&#45;&gt;42 -->\n<g id=\"edge42\" class=\"edge\">\n<title>38&#45;&gt;42</title>\n<path fill=\"none\" stroke=\"#000000\" d=\"M1739.7846,-555.7677C1748.4261,-544.573 1757.8518,-532.3624 1766.5334,-521.1158\"/>\n<polygon fill=\"#000000\" stroke=\"#000000\" points=\"1769.3616,-523.1798 1772.7016,-513.1252 1763.8205,-518.9024 1769.3616,-523.1798\"/>\n</g>\n<!-- 40 -->\n<g id=\"node41\" class=\"node\">\n<title>40</title>\n<path fill=\"#e58139\" stroke=\"#000000\" d=\"M1600,-399C1600,-399 1525,-399 1525,-399 1519,-399 1513,-393 1513,-387 1513,-387 1513,-347 1513,-347 1513,-341 1519,-335 1525,-335 1525,-335 1600,-335 1600,-335 1606,-335 1612,-341 1612,-347 1612,-347 1612,-387 1612,-387 1612,-393 1606,-399 1600,-399\"/>\n<text text-anchor=\"start\" x=\"1533\" y=\"-384.8\" font-family=\"Helvetica,sans-Serif\" font-size=\"14.00\" fill=\"#000000\">gini = 0.0</text>\n<text text-anchor=\"start\" x=\"1523\" y=\"-370.8\" font-family=\"Helvetica,sans-Serif\" font-size=\"14.00\" fill=\"#000000\">samples = 1</text>\n<text text-anchor=\"start\" x=\"1521\" y=\"-356.8\" font-family=\"Helvetica,sans-Serif\" font-size=\"14.00\" fill=\"#000000\">value = [1, 0]</text>\n<text text-anchor=\"start\" x=\"1530\" y=\"-342.8\" font-family=\"Helvetica,sans-Serif\" font-size=\"14.00\" fill=\"#000000\">class = y</text>\n<text text-anchor=\"start\" x=\"1588\" y=\"-342.8\" font-family=\"Helvetica,sans-Serif\" baseline-shift=\"sub\" font-size=\"14.00\" fill=\"#000000\">0</text>\n</g>\n<!-- 39&#45;&gt;40 -->\n<g id=\"edge40\" class=\"edge\">\n<title>39&#45;&gt;40</title>\n<path fill=\"none\" stroke=\"#000000\" d=\"M1601.1955,-441.7677C1595.5706,-430.8991 1589.45,-419.0729 1583.7715,-408.1009\"/>\n<polygon fill=\"#000000\" stroke=\"#000000\" points=\"1586.831,-406.3975 1579.1262,-399.1252 1580.6142,-409.615 1586.831,-406.3975\"/>\n</g>\n<!-- 41 -->\n<g id=\"node42\" class=\"node\">\n<title>41</title>\n<path fill=\"#399de5\" stroke=\"#000000\" d=\"M1717,-399C1717,-399 1642,-399 1642,-399 1636,-399 1630,-393 1630,-387 1630,-387 1630,-347 1630,-347 1630,-341 1636,-335 1642,-335 1642,-335 1717,-335 1717,-335 1723,-335 1729,-341 1729,-347 1729,-347 1729,-387 1729,-387 1729,-393 1723,-399 1717,-399\"/>\n<text text-anchor=\"start\" x=\"1650\" y=\"-384.8\" font-family=\"Helvetica,sans-Serif\" font-size=\"14.00\" fill=\"#000000\">gini = 0.0</text>\n<text text-anchor=\"start\" x=\"1640\" y=\"-370.8\" font-family=\"Helvetica,sans-Serif\" font-size=\"14.00\" fill=\"#000000\">samples = 4</text>\n<text text-anchor=\"start\" x=\"1638\" y=\"-356.8\" font-family=\"Helvetica,sans-Serif\" font-size=\"14.00\" fill=\"#000000\">value = [0, 4]</text>\n<text text-anchor=\"start\" x=\"1647\" y=\"-342.8\" font-family=\"Helvetica,sans-Serif\" font-size=\"14.00\" fill=\"#000000\">class = y</text>\n<text text-anchor=\"start\" x=\"1705\" y=\"-342.8\" font-family=\"Helvetica,sans-Serif\" baseline-shift=\"sub\" font-size=\"14.00\" fill=\"#000000\">1</text>\n</g>\n<!-- 39&#45;&gt;41 -->\n<g id=\"edge41\" class=\"edge\">\n<title>39&#45;&gt;41</title>\n<path fill=\"none\" stroke=\"#000000\" d=\"M1641.4603,-441.7677C1646.9899,-430.8991 1653.0068,-419.0729 1658.589,-408.1009\"/>\n<polygon fill=\"#000000\" stroke=\"#000000\" points=\"1661.7405,-409.6251 1663.1556,-399.1252 1655.5015,-406.4509 1661.7405,-409.6251\"/>\n</g>\n</g>\n</svg>\n"
          },
          "metadata": {},
          "execution_count": 17
        }
      ]
    },
    {
      "cell_type": "markdown",
      "metadata": {
        "id": "aGeTyxfFCqNb"
      },
      "source": [
        "Predicción de nuestros modelos con Random Forest"
      ]
    },
    {
      "cell_type": "code",
      "metadata": {
        "id": "Sw_CXuwkCq56"
      },
      "source": [
        "y_pred_tree  = classifier.predict(X_test)"
      ],
      "execution_count": null,
      "outputs": []
    },
    {
      "cell_type": "markdown",
      "metadata": {
        "id": "3zK8roZVEHkp"
      },
      "source": [
        "RESULTADOS\n",
        "\n",
        "y_test ->Verdadero resultado"
      ]
    },
    {
      "cell_type": "code",
      "metadata": {
        "colab": {
          "base_uri": "https://localhost:8080/"
        },
        "id": "u8F-xtgNEGZp",
        "outputId": "cfec258a-6eac-46a7-ef68-5e06f52b9316"
      },
      "source": [
        "y_test"
      ],
      "execution_count": null,
      "outputs": [
        {
          "output_type": "execute_result",
          "data": {
            "text/plain": [
              "array(['Maligno', 'Benigno', 'Benigno', 'Benigno', 'Benigno', 'Benigno',\n",
              "       'Benigno', 'Benigno', 'Benigno', 'Benigno', 'Benigno', 'Benigno',\n",
              "       'Benigno', 'Benigno', 'Benigno', 'Maligno', 'Benigno', 'Maligno',\n",
              "       'Maligno', 'Maligno', 'Maligno', 'Maligno', 'Benigno', 'Benigno',\n",
              "       'Maligno', 'Benigno', 'Benigno', 'Maligno', 'Benigno', 'Maligno',\n",
              "       'Benigno', 'Maligno', 'Benigno', 'Maligno', 'Benigno', 'Maligno',\n",
              "       'Benigno', 'Maligno', 'Benigno', 'Maligno', 'Maligno', 'Benigno',\n",
              "       'Maligno', 'Benigno', 'Benigno', 'Maligno', 'Benigno', 'Benigno',\n",
              "       'Benigno', 'Maligno', 'Maligno', 'Maligno', 'Maligno', 'Benigno',\n",
              "       'Benigno', 'Benigno', 'Benigno', 'Benigno', 'Benigno', 'Maligno',\n",
              "       'Maligno', 'Maligno', 'Benigno', 'Benigno', 'Maligno', 'Benigno',\n",
              "       'Maligno', 'Maligno', 'Maligno', 'Benigno', 'Benigno', 'Maligno',\n",
              "       'Benigno', 'Maligno', 'Maligno', 'Benigno', 'Benigno', 'Benigno',\n",
              "       'Benigno', 'Benigno', 'Maligno', 'Maligno', 'Maligno', 'Benigno',\n",
              "       'Maligno', 'Benigno', 'Benigno', 'Benigno', 'Maligno', 'Maligno',\n",
              "       'Benigno', 'Maligno', 'Benigno', 'Maligno', 'Benigno', 'Benigno',\n",
              "       'Maligno', 'Benigno', 'Benigno', 'Benigno', 'Benigno', 'Benigno',\n",
              "       'Benigno', 'Benigno', 'Maligno', 'Benigno', 'Maligno', 'Benigno',\n",
              "       'Maligno', 'Maligno', 'Benigno', 'Maligno', 'Maligno', 'Benigno'],\n",
              "      dtype=object)"
            ]
          },
          "metadata": {},
          "execution_count": 19
        }
      ]
    },
    {
      "cell_type": "markdown",
      "metadata": {
        "id": "p7w25IyuEtVV"
      },
      "source": [
        "y_pred_tree -> Prediccion del Resultado"
      ]
    },
    {
      "cell_type": "code",
      "metadata": {
        "colab": {
          "base_uri": "https://localhost:8080/"
        },
        "id": "ERJ4ciA4EvKG",
        "outputId": "1aa0b36d-fff7-41f1-dd24-9a23abdd6e1c"
      },
      "source": [
        "y_pred_tree"
      ],
      "execution_count": null,
      "outputs": [
        {
          "output_type": "execute_result",
          "data": {
            "text/plain": [
              "array(['Maligno', 'Benigno', 'Benigno', 'Benigno', 'Benigno', 'Benigno',\n",
              "       'Benigno', 'Benigno', 'Benigno', 'Benigno', 'Benigno', 'Benigno',\n",
              "       'Benigno', 'Maligno', 'Benigno', 'Maligno', 'Benigno', 'Maligno',\n",
              "       'Maligno', 'Maligno', 'Maligno', 'Maligno', 'Benigno', 'Benigno',\n",
              "       'Maligno', 'Benigno', 'Benigno', 'Maligno', 'Benigno', 'Maligno',\n",
              "       'Benigno', 'Maligno', 'Benigno', 'Maligno', 'Benigno', 'Maligno',\n",
              "       'Benigno', 'Maligno', 'Benigno', 'Maligno', 'Maligno', 'Benigno',\n",
              "       'Maligno', 'Benigno', 'Benigno', 'Maligno', 'Benigno', 'Maligno',\n",
              "       'Benigno', 'Maligno', 'Maligno', 'Maligno', 'Benigno', 'Benigno',\n",
              "       'Benigno', 'Benigno', 'Benigno', 'Benigno', 'Benigno', 'Maligno',\n",
              "       'Maligno', 'Maligno', 'Benigno', 'Benigno', 'Maligno', 'Benigno',\n",
              "       'Maligno', 'Maligno', 'Maligno', 'Benigno', 'Maligno', 'Maligno',\n",
              "       'Benigno', 'Benigno', 'Maligno', 'Benigno', 'Benigno', 'Benigno',\n",
              "       'Benigno', 'Benigno', 'Maligno', 'Maligno', 'Maligno', 'Benigno',\n",
              "       'Maligno', 'Benigno', 'Benigno', 'Benigno', 'Maligno', 'Maligno',\n",
              "       'Benigno', 'Maligno', 'Maligno', 'Maligno', 'Benigno', 'Benigno',\n",
              "       'Maligno', 'Benigno', 'Benigno', 'Benigno', 'Benigno', 'Benigno',\n",
              "       'Benigno', 'Benigno', 'Maligno', 'Benigno', 'Maligno', 'Benigno',\n",
              "       'Maligno', 'Benigno', 'Benigno', 'Maligno', 'Maligno', 'Maligno'],\n",
              "      dtype=object)"
            ]
          },
          "metadata": {},
          "execution_count": 20
        }
      ]
    },
    {
      "cell_type": "markdown",
      "metadata": {
        "id": "47WgeKIsEzAY"
      },
      "source": [
        "matriz de confusión"
      ]
    },
    {
      "cell_type": "code",
      "metadata": {
        "colab": {
          "base_uri": "https://localhost:8080/",
          "height": 334
        },
        "id": "s9qXAWkRJeSP",
        "outputId": "a52264e4-f0d7-4800-a00a-3eafad16dedb"
      },
      "source": [
        "plot_confusion_matrix(classifier, X_test, y_test)\n",
        "plt.show()"
      ],
      "execution_count": null,
      "outputs": [
        {
          "output_type": "stream",
          "name": "stderr",
          "text": [
            "/usr/local/lib/python3.7/dist-packages/sklearn/utils/deprecation.py:87: FutureWarning: Function plot_confusion_matrix is deprecated; Function `plot_confusion_matrix` is deprecated in 1.0 and will be removed in 1.2. Use one of the class methods: ConfusionMatrixDisplay.from_predictions or ConfusionMatrixDisplay.from_estimator.\n",
            "  warnings.warn(msg, category=FutureWarning)\n"
          ]
        },
        {
          "output_type": "display_data",
          "data": {
            "image/png": "[encoded data removed]",
            "text/plain": [
              "<Figure size 432x288 with 2 Axes>"
            ]
          },
          "metadata": {
            "needs_background": "light"
          }
        }
      ]
    },
    {
      "cell_type": "markdown",
      "metadata": {
        "id": "o7WLGV0bF0Bf"
      },
      "source": [
        "#<font color=\"red\"><u>**NAIVE-BAYES**</u></font>"
      ]
    },
    {
      "cell_type": "markdown",
      "metadata": {
        "id": "JHBR7xWiF4ov"
      },
      "source": [
        "Ajustar el clasificador en el Conjunto de Entrenamiento"
      ]
    },
    {
      "cell_type": "code",
      "metadata": {
        "colab": {
          "base_uri": "https://localhost:8080/"
        },
        "id": "xH814WzeEcf9",
        "outputId": "c821cbc3-5d4b-4f1a-b178-800d026ce118"
      },
      "source": [
        "from sklearn.naive_bayes import GaussianNB\n",
        "classifier = GaussianNB()\n",
        "classifier.fit(X_train, y_train)"
      ],
      "execution_count": null,
      "outputs": [
        {
          "output_type": "execute_result",
          "data": {
            "text/plain": [
              "GaussianNB()"
            ]
          },
          "metadata": {},
          "execution_count": 22
        }
      ]
    },
    {
      "cell_type": "markdown",
      "metadata": {
        "id": "f1EYs6BAGA5_"
      },
      "source": [
        "Predicción de nuestros modelos con Random Forest"
      ]
    },
    {
      "cell_type": "code",
      "metadata": {
        "id": "leJlct6KGBmn"
      },
      "source": [
        "y_pred_bayes = classifier.predict(X_test)"
      ],
      "execution_count": null,
      "outputs": []
    },
    {
      "cell_type": "markdown",
      "metadata": {
        "id": "cvY0N1DtGLpE"
      },
      "source": [
        "RESULTADOS\n",
        "\n",
        "y_test ->Verdadero resultado"
      ]
    },
    {
      "cell_type": "code",
      "metadata": {
        "colab": {
          "base_uri": "https://localhost:8080/"
        },
        "id": "fsCZlIZGGNWP",
        "outputId": "87521ac7-59f6-4503-f3f4-4bad04c0973f"
      },
      "source": [
        "y_test"
      ],
      "execution_count": null,
      "outputs": [
        {
          "output_type": "execute_result",
          "data": {
            "text/plain": [
              "array(['Maligno', 'Benigno', 'Benigno', 'Benigno', 'Benigno', 'Benigno',\n",
              "       'Benigno', 'Benigno', 'Benigno', 'Benigno', 'Benigno', 'Benigno',\n",
              "       'Benigno', 'Benigno', 'Benigno', 'Maligno', 'Benigno', 'Maligno',\n",
              "       'Maligno', 'Maligno', 'Maligno', 'Maligno', 'Benigno', 'Benigno',\n",
              "       'Maligno', 'Benigno', 'Benigno', 'Maligno', 'Benigno', 'Maligno',\n",
              "       'Benigno', 'Maligno', 'Benigno', 'Maligno', 'Benigno', 'Maligno',\n",
              "       'Benigno', 'Maligno', 'Benigno', 'Maligno', 'Maligno', 'Benigno',\n",
              "       'Maligno', 'Benigno', 'Benigno', 'Maligno', 'Benigno', 'Benigno',\n",
              "       'Benigno', 'Maligno', 'Maligno', 'Maligno', 'Maligno', 'Benigno',\n",
              "       'Benigno', 'Benigno', 'Benigno', 'Benigno', 'Benigno', 'Maligno',\n",
              "       'Maligno', 'Maligno', 'Benigno', 'Benigno', 'Maligno', 'Benigno',\n",
              "       'Maligno', 'Maligno', 'Maligno', 'Benigno', 'Benigno', 'Maligno',\n",
              "       'Benigno', 'Maligno', 'Maligno', 'Benigno', 'Benigno', 'Benigno',\n",
              "       'Benigno', 'Benigno', 'Maligno', 'Maligno', 'Maligno', 'Benigno',\n",
              "       'Maligno', 'Benigno', 'Benigno', 'Benigno', 'Maligno', 'Maligno',\n",
              "       'Benigno', 'Maligno', 'Benigno', 'Maligno', 'Benigno', 'Benigno',\n",
              "       'Maligno', 'Benigno', 'Benigno', 'Benigno', 'Benigno', 'Benigno',\n",
              "       'Benigno', 'Benigno', 'Maligno', 'Benigno', 'Maligno', 'Benigno',\n",
              "       'Maligno', 'Maligno', 'Benigno', 'Maligno', 'Maligno', 'Benigno'],\n",
              "      dtype=object)"
            ]
          },
          "metadata": {},
          "execution_count": 24
        }
      ]
    },
    {
      "cell_type": "markdown",
      "metadata": {
        "id": "riTF7WfDIPq_"
      },
      "source": [
        "y_pred_bayes -> Prediccion del Resultado"
      ]
    },
    {
      "cell_type": "code",
      "metadata": {
        "colab": {
          "base_uri": "https://localhost:8080/"
        },
        "id": "jXufR26qIV33",
        "outputId": "024314ec-3eaa-4e2e-d461-4ba8fb3f7678"
      },
      "source": [
        "y_pred_bayes"
      ],
      "execution_count": null,
      "outputs": [
        {
          "output_type": "execute_result",
          "data": {
            "text/plain": [
              "array(['Maligno', 'Benigno', 'Benigno', 'Benigno', 'Benigno', 'Benigno',\n",
              "       'Benigno', 'Benigno', 'Benigno', 'Benigno', 'Maligno', 'Benigno',\n",
              "       'Benigno', 'Maligno', 'Maligno', 'Maligno', 'Maligno', 'Maligno',\n",
              "       'Maligno', 'Maligno', 'Maligno', 'Maligno', 'Benigno', 'Benigno',\n",
              "       'Maligno', 'Benigno', 'Benigno', 'Maligno', 'Benigno', 'Maligno',\n",
              "       'Benigno', 'Maligno', 'Benigno', 'Maligno', 'Benigno', 'Maligno',\n",
              "       'Benigno', 'Maligno', 'Benigno', 'Maligno', 'Benigno', 'Benigno',\n",
              "       'Maligno', 'Benigno', 'Maligno', 'Maligno', 'Benigno', 'Benigno',\n",
              "       'Benigno', 'Maligno', 'Maligno', 'Maligno', 'Maligno', 'Benigno',\n",
              "       'Benigno', 'Benigno', 'Benigno', 'Benigno', 'Benigno', 'Maligno',\n",
              "       'Maligno', 'Maligno', 'Benigno', 'Benigno', 'Maligno', 'Benigno',\n",
              "       'Maligno', 'Maligno', 'Maligno', 'Benigno', 'Benigno', 'Maligno',\n",
              "       'Benigno', 'Benigno', 'Maligno', 'Benigno', 'Benigno', 'Benigno',\n",
              "       'Benigno', 'Benigno', 'Maligno', 'Maligno', 'Maligno', 'Benigno',\n",
              "       'Maligno', 'Benigno', 'Benigno', 'Benigno', 'Maligno', 'Maligno',\n",
              "       'Benigno', 'Benigno', 'Benigno', 'Maligno', 'Benigno', 'Benigno',\n",
              "       'Maligno', 'Maligno', 'Benigno', 'Benigno', 'Benigno', 'Benigno',\n",
              "       'Benigno', 'Benigno', 'Maligno', 'Benigno', 'Maligno', 'Benigno',\n",
              "       'Benigno', 'Benigno', 'Benigno', 'Maligno', 'Maligno', 'Benigno'],\n",
              "      dtype='<U7')"
            ]
          },
          "metadata": {},
          "execution_count": 25
        }
      ]
    },
    {
      "cell_type": "markdown",
      "metadata": {
        "id": "ipmezlcfIcKd"
      },
      "source": [
        "matriz de confusión"
      ]
    },
    {
      "cell_type": "code",
      "metadata": {
        "colab": {
          "base_uri": "https://localhost:8080/"
        },
        "id": "sfis-kOnIcsA",
        "outputId": "386d50c0-c832-4c6d-9724-5464872dde7c"
      },
      "source": [
        "from sklearn.metrics import confusion_matrix\n",
        "cm = confusion_matrix(y_test, y_pred_bayes)\n",
        "cm"
      ],
      "execution_count": null,
      "outputs": [
        {
          "output_type": "execute_result",
          "data": {
            "text/plain": [
              "array([[61,  6],\n",
              "       [ 5, 42]])"
            ]
          },
          "metadata": {},
          "execution_count": 26
        }
      ]
    },
    {
      "cell_type": "code",
      "metadata": {
        "colab": {
          "base_uri": "https://localhost:8080/",
          "height": 334
        },
        "id": "gQPXUOyPJtLl",
        "outputId": "3d218740-d810-465b-c56e-cc52508622f4"
      },
      "source": [
        "plot_confusion_matrix(classifier, X_test, y_test)\n",
        "plt.show()"
      ],
      "execution_count": null,
      "outputs": [
        {
          "output_type": "stream",
          "name": "stderr",
          "text": [
            "/usr/local/lib/python3.7/dist-packages/sklearn/utils/deprecation.py:87: FutureWarning: Function plot_confusion_matrix is deprecated; Function `plot_confusion_matrix` is deprecated in 1.0 and will be removed in 1.2. Use one of the class methods: ConfusionMatrixDisplay.from_predictions or ConfusionMatrixDisplay.from_estimator.\n",
            "  warnings.warn(msg, category=FutureWarning)\n"
          ]
        },
        {
          "output_type": "display_data",
          "data": {
            "image/png": "[encoded data removed]",
            "text/plain": [
              "<Figure size 432x288 with 2 Axes>"
            ]
          },
          "metadata": {
            "needs_background": "light"
          }
        }
      ]
    },
    {
      "cell_type": "markdown",
      "metadata": {
        "id": "07hUgn6sNnjO"
      },
      "source": [
        "#<font color=\"red\"><u>**ANN**</u></font>"
      ]
    },
    {
      "cell_type": "markdown",
      "metadata": {
        "id": "P4wTFQV3NrC6"
      },
      "source": [
        "INSTALAR LIBRERIAS ESPECIFICAS PARA EL ANN"
      ]
    },
    {
      "cell_type": "code",
      "metadata": {
        "colab": {
          "base_uri": "https://localhost:8080/"
        },
        "id": "pv8RXs3EN1lW",
        "outputId": "240b4039-77e6-47ce-e2fd-61d0d86a5590"
      },
      "source": [
        "!pip install --upgrade --no-deps git+git://github.com/Theano/Theano.git\n",
        "!pip install keras\n",
        "!pip install tensorflow"
      ],
      "execution_count": null,
      "outputs": [
        {
          "output_type": "stream",
          "name": "stdout",
          "text": [
            "Collecting git+git://github.com/Theano/Theano.git\n",
            "  Cloning git://github.com/Theano/Theano.git to /tmp/pip-req-build-k8_bodwm\n",
            "  Running command git clone -q git://github.com/Theano/Theano.git /tmp/pip-req-build-k8_bodwm\n",
            "Requirement already satisfied: keras in /usr/local/lib/python3.7/dist-packages (2.7.0)\n",
            "Requirement already satisfied: tensorflow in /usr/local/lib/python3.7/dist-packages (2.7.0)\n",
            "Requirement already satisfied: wheel<1.0,>=0.32.0 in /usr/local/lib/python3.7/dist-packages (from tensorflow) (0.37.0)\n",
            "Requirement already satisfied: tensorflow-io-gcs-filesystem>=0.21.0 in /usr/local/lib/python3.7/dist-packages (from tensorflow) (0.22.0)\n",
            "Requirement already satisfied: six>=1.12.0 in /usr/local/lib/python3.7/dist-packages (from tensorflow) (1.15.0)\n",
            "Requirement already satisfied: absl-py>=0.4.0 in /usr/local/lib/python3.7/dist-packages (from tensorflow) (0.12.0)\n",
            "Requirement already satisfied: keras-preprocessing>=1.1.1 in /usr/local/lib/python3.7/dist-packages (from tensorflow) (1.1.2)\n",
            "Requirement already satisfied: numpy>=1.14.5 in /usr/local/lib/python3.7/dist-packages (from tensorflow) (1.19.5)\n",
            "Requirement already satisfied: termcolor>=1.1.0 in /usr/local/lib/python3.7/dist-packages (from tensorflow) (1.1.0)\n",
            "Requirement already satisfied: tensorboard~=2.6 in /usr/local/lib/python3.7/dist-packages (from tensorflow) (2.7.0)\n",
            "Requirement already satisfied: keras<2.8,>=2.7.0rc0 in /usr/local/lib/python3.7/dist-packages (from tensorflow) (2.7.0)\n",
            "Requirement already satisfied: protobuf>=3.9.2 in /usr/local/lib/python3.7/dist-packages (from tensorflow) (3.17.3)\n",
            "Requirement already satisfied: h5py>=2.9.0 in /usr/local/lib/python3.7/dist-packages (from tensorflow) (3.1.0)\n",
            "Requirement already satisfied: typing-extensions>=3.6.6 in /usr/local/lib/python3.7/dist-packages (from tensorflow) (3.10.0.2)\n",
            "Requirement already satisfied: wrapt>=1.11.0 in /usr/local/lib/python3.7/dist-packages (from tensorflow) (1.13.3)\n",
            "Requirement already satisfied: astunparse>=1.6.0 in /usr/local/lib/python3.7/dist-packages (from tensorflow) (1.6.3)\n",
            "Requirement already satisfied: grpcio<2.0,>=1.24.3 in /usr/local/lib/python3.7/dist-packages (from tensorflow) (1.42.0)\n",
            "Requirement already satisfied: flatbuffers<3.0,>=1.12 in /usr/local/lib/python3.7/dist-packages (from tensorflow) (2.0)\n",
            "Requirement already satisfied: libclang>=9.0.1 in /usr/local/lib/python3.7/dist-packages (from tensorflow) (12.0.0)\n",
            "Requirement already satisfied: gast<0.5.0,>=0.2.1 in /usr/local/lib/python3.7/dist-packages (from tensorflow) (0.4.0)\n",
            "Requirement already satisfied: tensorflow-estimator<2.8,~=2.7.0rc0 in /usr/local/lib/python3.7/dist-packages (from tensorflow) (2.7.0)\n",
            "Requirement already satisfied: google-pasta>=0.1.1 in /usr/local/lib/python3.7/dist-packages (from tensorflow) (0.2.0)\n",
            "Requirement already satisfied: opt-einsum>=2.3.2 in /usr/local/lib/python3.7/dist-packages (from tensorflow) (3.3.0)\n",
            "Requirement already satisfied: cached-property in /usr/local/lib/python3.7/dist-packages (from h5py>=2.9.0->tensorflow) (1.5.2)\n",
            "Requirement already satisfied: markdown>=2.6.8 in /usr/local/lib/python3.7/dist-packages (from tensorboard~=2.6->tensorflow) (3.3.6)\n",
            "Requirement already satisfied: werkzeug>=0.11.15 in /usr/local/lib/python3.7/dist-packages (from tensorboard~=2.6->tensorflow) (1.0.1)\n",
            "Requirement already satisfied: requests<3,>=2.21.0 in /usr/local/lib/python3.7/dist-packages (from tensorboard~=2.6->tensorflow) (2.23.0)\n",
            "Requirement already satisfied: google-auth<3,>=1.6.3 in /usr/local/lib/python3.7/dist-packages (from tensorboard~=2.6->tensorflow) (1.35.0)\n",
            "Requirement already satisfied: tensorboard-plugin-wit>=1.6.0 in /usr/local/lib/python3.7/dist-packages (from tensorboard~=2.6->tensorflow) (1.8.0)\n",
            "Requirement already satisfied: google-auth-oauthlib<0.5,>=0.4.1 in /usr/local/lib/python3.7/dist-packages (from tensorboard~=2.6->tensorflow) (0.4.6)\n",
            "Requirement already satisfied: tensorboard-data-server<0.7.0,>=0.6.0 in /usr/local/lib/python3.7/dist-packages (from tensorboard~=2.6->tensorflow) (0.6.1)\n",
            "Requirement already satisfied: setuptools>=41.0.0 in /usr/local/lib/python3.7/dist-packages (from tensorboard~=2.6->tensorflow) (57.4.0)\n",
            "Requirement already satisfied: cachetools<5.0,>=2.0.0 in /usr/local/lib/python3.7/dist-packages (from google-auth<3,>=1.6.3->tensorboard~=2.6->tensorflow) (4.2.4)\n",
            "Requirement already satisfied: pyasn1-modules>=0.2.1 in /usr/local/lib/python3.7/dist-packages (from google-auth<3,>=1.6.3->tensorboard~=2.6->tensorflow) (0.2.8)\n",
            "Requirement already satisfied: rsa<5,>=3.1.4 in /usr/local/lib/python3.7/dist-packages (from google-auth<3,>=1.6.3->tensorboard~=2.6->tensorflow) (4.7.2)\n",
            "Requirement already satisfied: requests-oauthlib>=0.7.0 in /usr/local/lib/python3.7/dist-packages (from google-auth-oauthlib<0.5,>=0.4.1->tensorboard~=2.6->tensorflow) (1.3.0)\n",
            "Requirement already satisfied: importlib-metadata>=4.4 in /usr/local/lib/python3.7/dist-packages (from markdown>=2.6.8->tensorboard~=2.6->tensorflow) (4.8.2)\n",
            "Requirement already satisfied: zipp>=0.5 in /usr/local/lib/python3.7/dist-packages (from importlib-metadata>=4.4->markdown>=2.6.8->tensorboard~=2.6->tensorflow) (3.6.0)\n",
            "Requirement already satisfied: pyasn1<0.5.0,>=0.4.6 in /usr/local/lib/python3.7/dist-packages (from pyasn1-modules>=0.2.1->google-auth<3,>=1.6.3->tensorboard~=2.6->tensorflow) (0.4.8)\n",
            "Requirement already satisfied: chardet<4,>=3.0.2 in /usr/local/lib/python3.7/dist-packages (from requests<3,>=2.21.0->tensorboard~=2.6->tensorflow) (3.0.4)\n",
            "Requirement already satisfied: certifi>=2017.4.17 in /usr/local/lib/python3.7/dist-packages (from requests<3,>=2.21.0->tensorboard~=2.6->tensorflow) (2021.10.8)\n",
            "Requirement already satisfied: urllib3!=1.25.0,!=1.25.1,<1.26,>=1.21.1 in /usr/local/lib/python3.7/dist-packages (from requests<3,>=2.21.0->tensorboard~=2.6->tensorflow) (1.24.3)\n",
            "Requirement already satisfied: idna<3,>=2.5 in /usr/local/lib/python3.7/dist-packages (from requests<3,>=2.21.0->tensorboard~=2.6->tensorflow) (2.10)\n",
            "Requirement already satisfied: oauthlib>=3.0.0 in /usr/local/lib/python3.7/dist-packages (from requests-oauthlib>=0.7.0->google-auth-oauthlib<0.5,>=0.4.1->tensorboard~=2.6->tensorflow) (3.1.1)\n"
          ]
        }
      ]
    },
    {
      "cell_type": "code",
      "metadata": {
        "id": "oc2yefaFUGoO"
      },
      "source": [
        "dataset=dataset.replace({'Maligno':1, 'Benigno':0})"
      ],
      "execution_count": null,
      "outputs": []
    },
    {
      "cell_type": "code",
      "metadata": {
        "colab": {
          "base_uri": "https://localhost:8080/",
          "height": 461
        },
        "id": "fNENQFTcOgKN",
        "outputId": "a379363e-916c-47a3-88a1-f0710940fee5"
      },
      "source": [
        "dataset"
      ],
      "execution_count": null,
      "outputs": [
        {
          "output_type": "execute_result",
          "data": {
            "text/html": [
              "<div>\n",
              "<style scoped>\n",
              "    .dataframe tbody tr th:only-of-type {\n",
              "        vertical-align: middle;\n",
              "    }\n",
              "\n",
              "    .dataframe tbody tr th {\n",
              "        vertical-align: top;\n",
              "    }\n",
              "\n",
              "    .dataframe thead th {\n",
              "        text-align: right;\n",
              "    }\n",
              "</style>\n",
              "<table border=\"1\" class=\"dataframe\">\n",
              "  <thead>\n",
              "    <tr style=\"text-align: right;\">\n",
              "      <th></th>\n",
              "      <th>id</th>\n",
              "      <th>radius_mean</th>\n",
              "      <th>texture_mean</th>\n",
              "      <th>perimeter_mean</th>\n",
              "      <th>area_mean</th>\n",
              "      <th>smoothness_mean</th>\n",
              "      <th>compactness_mean</th>\n",
              "      <th>concavity_mean</th>\n",
              "      <th>concave points_mean</th>\n",
              "      <th>symmetry_mean</th>\n",
              "      <th>fractal_dimension_mean</th>\n",
              "      <th>radius_se</th>\n",
              "      <th>texture_se</th>\n",
              "      <th>perimeter_se</th>\n",
              "      <th>area_se</th>\n",
              "      <th>smoothness_se</th>\n",
              "      <th>compactness_se</th>\n",
              "      <th>concavity_se</th>\n",
              "      <th>concave points_se</th>\n",
              "      <th>symmetry_se</th>\n",
              "      <th>fractal_dimension_se</th>\n",
              "      <th>radius_worst</th>\n",
              "      <th>texture_worst</th>\n",
              "      <th>perimeter_worst</th>\n",
              "      <th>area_worst</th>\n",
              "      <th>smoothness_worst</th>\n",
              "      <th>compactness_worst</th>\n",
              "      <th>concavity_worst</th>\n",
              "      <th>concave points_worst</th>\n",
              "      <th>symmetry_worst</th>\n",
              "      <th>fractal_dimension_worst</th>\n",
              "      <th>diagnosis</th>\n",
              "    </tr>\n",
              "  </thead>\n",
              "  <tbody>\n",
              "    <tr>\n",
              "      <th>0</th>\n",
              "      <td>842302</td>\n",
              "      <td>17.99</td>\n",
              "      <td>10.38</td>\n",
              "      <td>122.80</td>\n",
              "      <td>1001.0</td>\n",
              "      <td>0.11840</td>\n",
              "      <td>0.27760</td>\n",
              "      <td>0.30010</td>\n",
              "      <td>0.14710</td>\n",
              "      <td>0.2419</td>\n",
              "      <td>0.07871</td>\n",
              "      <td>1.0950</td>\n",
              "      <td>0.9053</td>\n",
              "      <td>8.589</td>\n",
              "      <td>153.40</td>\n",
              "      <td>0.006399</td>\n",
              "      <td>0.04904</td>\n",
              "      <td>0.05373</td>\n",
              "      <td>0.01587</td>\n",
              "      <td>0.03003</td>\n",
              "      <td>0.006193</td>\n",
              "      <td>25.380</td>\n",
              "      <td>17.33</td>\n",
              "      <td>184.60</td>\n",
              "      <td>2019.0</td>\n",
              "      <td>0.16220</td>\n",
              "      <td>0.66560</td>\n",
              "      <td>0.7119</td>\n",
              "      <td>0.2654</td>\n",
              "      <td>0.4601</td>\n",
              "      <td>0.11890</td>\n",
              "      <td>1</td>\n",
              "    </tr>\n",
              "    <tr>\n",
              "      <th>1</th>\n",
              "      <td>842517</td>\n",
              "      <td>20.57</td>\n",
              "      <td>17.77</td>\n",
              "      <td>132.90</td>\n",
              "      <td>1326.0</td>\n",
              "      <td>0.08474</td>\n",
              "      <td>0.07864</td>\n",
              "      <td>0.08690</td>\n",
              "      <td>0.07017</td>\n",
              "      <td>0.1812</td>\n",
              "      <td>0.05667</td>\n",
              "      <td>0.5435</td>\n",
              "      <td>0.7339</td>\n",
              "      <td>3.398</td>\n",
              "      <td>74.08</td>\n",
              "      <td>0.005225</td>\n",
              "      <td>0.01308</td>\n",
              "      <td>0.01860</td>\n",
              "      <td>0.01340</td>\n",
              "      <td>0.01389</td>\n",
              "      <td>0.003532</td>\n",
              "      <td>24.990</td>\n",
              "      <td>23.41</td>\n",
              "      <td>158.80</td>\n",
              "      <td>1956.0</td>\n",
              "      <td>0.12380</td>\n",
              "      <td>0.18660</td>\n",
              "      <td>0.2416</td>\n",
              "      <td>0.1860</td>\n",
              "      <td>0.2750</td>\n",
              "      <td>0.08902</td>\n",
              "      <td>1</td>\n",
              "    </tr>\n",
              "    <tr>\n",
              "      <th>2</th>\n",
              "      <td>84300903</td>\n",
              "      <td>19.69</td>\n",
              "      <td>21.25</td>\n",
              "      <td>130.00</td>\n",
              "      <td>1203.0</td>\n",
              "      <td>0.10960</td>\n",
              "      <td>0.15990</td>\n",
              "      <td>0.19740</td>\n",
              "      <td>0.12790</td>\n",
              "      <td>0.2069</td>\n",
              "      <td>0.05999</td>\n",
              "      <td>0.7456</td>\n",
              "      <td>0.7869</td>\n",
              "      <td>4.585</td>\n",
              "      <td>94.03</td>\n",
              "      <td>0.006150</td>\n",
              "      <td>0.04006</td>\n",
              "      <td>0.03832</td>\n",
              "      <td>0.02058</td>\n",
              "      <td>0.02250</td>\n",
              "      <td>0.004571</td>\n",
              "      <td>23.570</td>\n",
              "      <td>25.53</td>\n",
              "      <td>152.50</td>\n",
              "      <td>1709.0</td>\n",
              "      <td>0.14440</td>\n",
              "      <td>0.42450</td>\n",
              "      <td>0.4504</td>\n",
              "      <td>0.2430</td>\n",
              "      <td>0.3613</td>\n",
              "      <td>0.08758</td>\n",
              "      <td>1</td>\n",
              "    </tr>\n",
              "    <tr>\n",
              "      <th>3</th>\n",
              "      <td>84348301</td>\n",
              "      <td>11.42</td>\n",
              "      <td>20.38</td>\n",
              "      <td>77.58</td>\n",
              "      <td>386.1</td>\n",
              "      <td>0.14250</td>\n",
              "      <td>0.28390</td>\n",
              "      <td>0.24140</td>\n",
              "      <td>0.10520</td>\n",
              "      <td>0.2597</td>\n",
              "      <td>0.09744</td>\n",
              "      <td>0.4956</td>\n",
              "      <td>1.1560</td>\n",
              "      <td>3.445</td>\n",
              "      <td>27.23</td>\n",
              "      <td>0.009110</td>\n",
              "      <td>0.07458</td>\n",
              "      <td>0.05661</td>\n",
              "      <td>0.01867</td>\n",
              "      <td>0.05963</td>\n",
              "      <td>0.009208</td>\n",
              "      <td>14.910</td>\n",
              "      <td>26.50</td>\n",
              "      <td>98.87</td>\n",
              "      <td>567.7</td>\n",
              "      <td>0.20980</td>\n",
              "      <td>0.86630</td>\n",
              "      <td>0.6869</td>\n",
              "      <td>0.2575</td>\n",
              "      <td>0.6638</td>\n",
              "      <td>0.17300</td>\n",
              "      <td>1</td>\n",
              "    </tr>\n",
              "    <tr>\n",
              "      <th>4</th>\n",
              "      <td>84358402</td>\n",
              "      <td>20.29</td>\n",
              "      <td>14.34</td>\n",
              "      <td>135.10</td>\n",
              "      <td>1297.0</td>\n",
              "      <td>0.10030</td>\n",
              "      <td>0.13280</td>\n",
              "      <td>0.19800</td>\n",
              "      <td>0.10430</td>\n",
              "      <td>0.1809</td>\n",
              "      <td>0.05883</td>\n",
              "      <td>0.7572</td>\n",
              "      <td>0.7813</td>\n",
              "      <td>5.438</td>\n",
              "      <td>94.44</td>\n",
              "      <td>0.011490</td>\n",
              "      <td>0.02461</td>\n",
              "      <td>0.05688</td>\n",
              "      <td>0.01885</td>\n",
              "      <td>0.01756</td>\n",
              "      <td>0.005115</td>\n",
              "      <td>22.540</td>\n",
              "      <td>16.67</td>\n",
              "      <td>152.20</td>\n",
              "      <td>1575.0</td>\n",
              "      <td>0.13740</td>\n",
              "      <td>0.20500</td>\n",
              "      <td>0.4000</td>\n",
              "      <td>0.1625</td>\n",
              "      <td>0.2364</td>\n",
              "      <td>0.07678</td>\n",
              "      <td>1</td>\n",
              "    </tr>\n",
              "    <tr>\n",
              "      <th>...</th>\n",
              "      <td>...</td>\n",
              "      <td>...</td>\n",
              "      <td>...</td>\n",
              "      <td>...</td>\n",
              "      <td>...</td>\n",
              "      <td>...</td>\n",
              "      <td>...</td>\n",
              "      <td>...</td>\n",
              "      <td>...</td>\n",
              "      <td>...</td>\n",
              "      <td>...</td>\n",
              "      <td>...</td>\n",
              "      <td>...</td>\n",
              "      <td>...</td>\n",
              "      <td>...</td>\n",
              "      <td>...</td>\n",
              "      <td>...</td>\n",
              "      <td>...</td>\n",
              "      <td>...</td>\n",
              "      <td>...</td>\n",
              "      <td>...</td>\n",
              "      <td>...</td>\n",
              "      <td>...</td>\n",
              "      <td>...</td>\n",
              "      <td>...</td>\n",
              "      <td>...</td>\n",
              "      <td>...</td>\n",
              "      <td>...</td>\n",
              "      <td>...</td>\n",
              "      <td>...</td>\n",
              "      <td>...</td>\n",
              "      <td>...</td>\n",
              "    </tr>\n",
              "    <tr>\n",
              "      <th>564</th>\n",
              "      <td>926424</td>\n",
              "      <td>21.56</td>\n",
              "      <td>22.39</td>\n",
              "      <td>142.00</td>\n",
              "      <td>1479.0</td>\n",
              "      <td>0.11100</td>\n",
              "      <td>0.11590</td>\n",
              "      <td>0.24390</td>\n",
              "      <td>0.13890</td>\n",
              "      <td>0.1726</td>\n",
              "      <td>0.05623</td>\n",
              "      <td>1.1760</td>\n",
              "      <td>1.2560</td>\n",
              "      <td>7.673</td>\n",
              "      <td>158.70</td>\n",
              "      <td>0.010300</td>\n",
              "      <td>0.02891</td>\n",
              "      <td>0.05198</td>\n",
              "      <td>0.02454</td>\n",
              "      <td>0.01114</td>\n",
              "      <td>0.004239</td>\n",
              "      <td>25.450</td>\n",
              "      <td>26.40</td>\n",
              "      <td>166.10</td>\n",
              "      <td>2027.0</td>\n",
              "      <td>0.14100</td>\n",
              "      <td>0.21130</td>\n",
              "      <td>0.4107</td>\n",
              "      <td>0.2216</td>\n",
              "      <td>0.2060</td>\n",
              "      <td>0.07115</td>\n",
              "      <td>1</td>\n",
              "    </tr>\n",
              "    <tr>\n",
              "      <th>565</th>\n",
              "      <td>926682</td>\n",
              "      <td>20.13</td>\n",
              "      <td>28.25</td>\n",
              "      <td>131.20</td>\n",
              "      <td>1261.0</td>\n",
              "      <td>0.09780</td>\n",
              "      <td>0.10340</td>\n",
              "      <td>0.14400</td>\n",
              "      <td>0.09791</td>\n",
              "      <td>0.1752</td>\n",
              "      <td>0.05533</td>\n",
              "      <td>0.7655</td>\n",
              "      <td>2.4630</td>\n",
              "      <td>5.203</td>\n",
              "      <td>99.04</td>\n",
              "      <td>0.005769</td>\n",
              "      <td>0.02423</td>\n",
              "      <td>0.03950</td>\n",
              "      <td>0.01678</td>\n",
              "      <td>0.01898</td>\n",
              "      <td>0.002498</td>\n",
              "      <td>23.690</td>\n",
              "      <td>38.25</td>\n",
              "      <td>155.00</td>\n",
              "      <td>1731.0</td>\n",
              "      <td>0.11660</td>\n",
              "      <td>0.19220</td>\n",
              "      <td>0.3215</td>\n",
              "      <td>0.1628</td>\n",
              "      <td>0.2572</td>\n",
              "      <td>0.06637</td>\n",
              "      <td>1</td>\n",
              "    </tr>\n",
              "    <tr>\n",
              "      <th>566</th>\n",
              "      <td>926954</td>\n",
              "      <td>16.60</td>\n",
              "      <td>28.08</td>\n",
              "      <td>108.30</td>\n",
              "      <td>858.1</td>\n",
              "      <td>0.08455</td>\n",
              "      <td>0.10230</td>\n",
              "      <td>0.09251</td>\n",
              "      <td>0.05302</td>\n",
              "      <td>0.1590</td>\n",
              "      <td>0.05648</td>\n",
              "      <td>0.4564</td>\n",
              "      <td>1.0750</td>\n",
              "      <td>3.425</td>\n",
              "      <td>48.55</td>\n",
              "      <td>0.005903</td>\n",
              "      <td>0.03731</td>\n",
              "      <td>0.04730</td>\n",
              "      <td>0.01557</td>\n",
              "      <td>0.01318</td>\n",
              "      <td>0.003892</td>\n",
              "      <td>18.980</td>\n",
              "      <td>34.12</td>\n",
              "      <td>126.70</td>\n",
              "      <td>1124.0</td>\n",
              "      <td>0.11390</td>\n",
              "      <td>0.30940</td>\n",
              "      <td>0.3403</td>\n",
              "      <td>0.1418</td>\n",
              "      <td>0.2218</td>\n",
              "      <td>0.07820</td>\n",
              "      <td>1</td>\n",
              "    </tr>\n",
              "    <tr>\n",
              "      <th>567</th>\n",
              "      <td>927241</td>\n",
              "      <td>20.60</td>\n",
              "      <td>29.33</td>\n",
              "      <td>140.10</td>\n",
              "      <td>1265.0</td>\n",
              "      <td>0.11780</td>\n",
              "      <td>0.27700</td>\n",
              "      <td>0.35140</td>\n",
              "      <td>0.15200</td>\n",
              "      <td>0.2397</td>\n",
              "      <td>0.07016</td>\n",
              "      <td>0.7260</td>\n",
              "      <td>1.5950</td>\n",
              "      <td>5.772</td>\n",
              "      <td>86.22</td>\n",
              "      <td>0.006522</td>\n",
              "      <td>0.06158</td>\n",
              "      <td>0.07117</td>\n",
              "      <td>0.01664</td>\n",
              "      <td>0.02324</td>\n",
              "      <td>0.006185</td>\n",
              "      <td>25.740</td>\n",
              "      <td>39.42</td>\n",
              "      <td>184.60</td>\n",
              "      <td>1821.0</td>\n",
              "      <td>0.16500</td>\n",
              "      <td>0.86810</td>\n",
              "      <td>0.9387</td>\n",
              "      <td>0.2650</td>\n",
              "      <td>0.4087</td>\n",
              "      <td>0.12400</td>\n",
              "      <td>1</td>\n",
              "    </tr>\n",
              "    <tr>\n",
              "      <th>568</th>\n",
              "      <td>92751</td>\n",
              "      <td>7.76</td>\n",
              "      <td>24.54</td>\n",
              "      <td>47.92</td>\n",
              "      <td>181.0</td>\n",
              "      <td>0.05263</td>\n",
              "      <td>0.04362</td>\n",
              "      <td>0.00000</td>\n",
              "      <td>0.00000</td>\n",
              "      <td>0.1587</td>\n",
              "      <td>0.05884</td>\n",
              "      <td>0.3857</td>\n",
              "      <td>1.4280</td>\n",
              "      <td>2.548</td>\n",
              "      <td>19.15</td>\n",
              "      <td>0.007189</td>\n",
              "      <td>0.00466</td>\n",
              "      <td>0.00000</td>\n",
              "      <td>0.00000</td>\n",
              "      <td>0.02676</td>\n",
              "      <td>0.002783</td>\n",
              "      <td>9.456</td>\n",
              "      <td>30.37</td>\n",
              "      <td>59.16</td>\n",
              "      <td>268.6</td>\n",
              "      <td>0.08996</td>\n",
              "      <td>0.06444</td>\n",
              "      <td>0.0000</td>\n",
              "      <td>0.0000</td>\n",
              "      <td>0.2871</td>\n",
              "      <td>0.07039</td>\n",
              "      <td>0</td>\n",
              "    </tr>\n",
              "  </tbody>\n",
              "</table>\n",
              "<p>569 rows × 32 columns</p>\n",
              "</div>"
            ],
            "text/plain": [
              "           id  radius_mean  ...  fractal_dimension_worst  diagnosis\n",
              "0      842302        17.99  ...                  0.11890          1\n",
              "1      842517        20.57  ...                  0.08902          1\n",
              "2    84300903        19.69  ...                  0.08758          1\n",
              "3    84348301        11.42  ...                  0.17300          1\n",
              "4    84358402        20.29  ...                  0.07678          1\n",
              "..        ...          ...  ...                      ...        ...\n",
              "564    926424        21.56  ...                  0.07115          1\n",
              "565    926682        20.13  ...                  0.06637          1\n",
              "566    926954        16.60  ...                  0.07820          1\n",
              "567    927241        20.60  ...                  0.12400          1\n",
              "568     92751         7.76  ...                  0.07039          0\n",
              "\n",
              "[569 rows x 32 columns]"
            ]
          },
          "metadata": {},
          "execution_count": 31
        }
      ]
    },
    {
      "cell_type": "markdown",
      "metadata": {
        "id": "vtd2gqgaO9AV"
      },
      "source": [
        "Separar las columnas    \n",
        "X-> se almacenarán todas los atributos de tipo numérico              \n",
        "y-> se almacenará la predicción (1:Maligno o 0:Benigno)"
      ]
    },
    {
      "cell_type": "code",
      "metadata": {
        "id": "aRjpTM8jO4kX"
      },
      "source": [
        "r = dataset.iloc[:,1:-1].values\n",
        "s = dataset.iloc[:,-1].values"
      ],
      "execution_count": null,
      "outputs": []
    },
    {
      "cell_type": "markdown",
      "metadata": {
        "id": "jFRdHrRsPJi3"
      },
      "source": [
        "Dividir la data en conjunto de entrenamiento(80%) y de test(20%)"
      ]
    },
    {
      "cell_type": "code",
      "metadata": {
        "id": "Osz_2149PKzE"
      },
      "source": [
        "from sklearn.model_selection import train_test_split\n",
        "r_train, r_test, s_train, s_test = train_test_split(r, s, test_size = 0.20, random_state = 0)"
      ],
      "execution_count": null,
      "outputs": []
    },
    {
      "cell_type": "markdown",
      "metadata": {
        "id": "0Mrl3n4KPP0A"
      },
      "source": [
        "Escalado de variables"
      ]
    },
    {
      "cell_type": "code",
      "metadata": {
        "id": "jr8xEyNdPQRW"
      },
      "source": [
        "from sklearn.preprocessing import StandardScaler\n",
        "sc_r = StandardScaler()\n",
        "r_train = sc_r.fit_transform(r_train)\n",
        "r_test = sc_r.transform(r_test)"
      ],
      "execution_count": null,
      "outputs": []
    },
    {
      "cell_type": "markdown",
      "metadata": {
        "id": "id58RsCkPZgo"
      },
      "source": [
        "SE DA INICIO A LA CONSTRUCCION DE LA RED NEURONAL"
      ]
    },
    {
      "cell_type": "code",
      "metadata": {
        "id": "cWhyVNoxPYtB"
      },
      "source": [
        "import keras\n",
        "from keras.models import Sequential\n",
        "from keras.layers import Dense"
      ],
      "execution_count": null,
      "outputs": []
    },
    {
      "cell_type": "markdown",
      "metadata": {
        "id": "DBTapTSTPqt2"
      },
      "source": [
        "Se inicializa la red neuronal"
      ]
    },
    {
      "cell_type": "code",
      "metadata": {
        "id": "99eS5csNPoPX"
      },
      "source": [
        "classifier = Sequential()"
      ],
      "execution_count": null,
      "outputs": []
    },
    {
      "cell_type": "markdown",
      "metadata": {
        "id": "wsNjnMduPvr2"
      },
      "source": [
        "AÑADIR LA CAPA DE ENTRADA Y LA PRIMERA CAPA OCULTA"
      ]
    },
    {
      "cell_type": "code",
      "metadata": {
        "id": "_xfZIMntPwLV"
      },
      "source": [
        "classifier.add(Dense(units = 15, kernel_initializer = \"uniform\",  \n",
        "                     activation = \"relu\", input_dim = 30))"
      ],
      "execution_count": null,
      "outputs": []
    },
    {
      "cell_type": "markdown",
      "metadata": {
        "id": "cMhLIDl5Pypu"
      },
      "source": [
        "AÑADIR LA SEGUNDA CAPA OCULTA"
      ]
    },
    {
      "cell_type": "code",
      "metadata": {
        "id": "rWgXOiV2P1UN"
      },
      "source": [
        "classifier.add(Dense(units = 15, kernel_initializer = \"uniform\",  activation = \"relu\"))"
      ],
      "execution_count": null,
      "outputs": []
    },
    {
      "cell_type": "markdown",
      "metadata": {
        "id": "lnfz__AvP49-"
      },
      "source": [
        "AÑADE LA CAPA DE SALIDA"
      ]
    },
    {
      "cell_type": "code",
      "metadata": {
        "id": "TcI4l6yzP5lv"
      },
      "source": [
        "classifier.add(Dense(units = 1, kernel_initializer = \"uniform\",  activation = \"sigmoid\"))"
      ],
      "execution_count": null,
      "outputs": []
    },
    {
      "cell_type": "markdown",
      "metadata": {
        "id": "xJr8_5MtP7s7"
      },
      "source": [
        "COMPILACION DE LA RED NEURONAL"
      ]
    },
    {
      "cell_type": "code",
      "metadata": {
        "id": "aVK_5aD1QDgu"
      },
      "source": [
        "classifier.compile(optimizer = \"adam\", loss = \"binary_crossentropy\", metrics = [\"accuracy\"])"
      ],
      "execution_count": null,
      "outputs": []
    },
    {
      "cell_type": "markdown",
      "metadata": {
        "id": "NDSK24E1QM8b"
      },
      "source": [
        "AJUSTAR LA RED NEURONAL AL CONJUNTO DE ENTRENAMIENTO"
      ]
    },
    {
      "cell_type": "code",
      "metadata": {
        "colab": {
          "base_uri": "https://localhost:8080/"
        },
        "id": "6qypw6ybQQsh",
        "outputId": "7c578a4c-adac-4c89-adc2-d9395d32c931"
      },
      "source": [
        "classifier.fit(r_test, s_test,  batch_size = 10, epochs = 100)"
      ],
      "execution_count": null,
      "outputs": [
        {
          "output_type": "stream",
          "name": "stdout",
          "text": [
            "Epoch 1/100\n",
            "12/12 [==============================] - 0s 2ms/step - loss: 0.6919 - accuracy: 0.6053\n",
            "Epoch 2/100\n",
            "12/12 [==============================] - 0s 2ms/step - loss: 0.6874 - accuracy: 0.6053\n",
            "Epoch 3/100\n",
            "12/12 [==============================] - 0s 2ms/step - loss: 0.6752 - accuracy: 0.7368\n",
            "Epoch 4/100\n",
            "12/12 [==============================] - 0s 2ms/step - loss: 0.6499 - accuracy: 0.9211\n",
            "Epoch 5/100\n",
            "12/12 [==============================] - 0s 2ms/step - loss: 0.5984 - accuracy: 0.9561\n",
            "Epoch 6/100\n",
            "12/12 [==============================] - 0s 2ms/step - loss: 0.5238 - accuracy: 0.9386\n",
            "Epoch 7/100\n",
            "12/12 [==============================] - 0s 2ms/step - loss: 0.4327 - accuracy: 0.9298\n",
            "Epoch 8/100\n",
            "12/12 [==============================] - 0s 2ms/step - loss: 0.3505 - accuracy: 0.9123\n",
            "Epoch 9/100\n",
            "12/12 [==============================] - 0s 2ms/step - loss: 0.2847 - accuracy: 0.9035\n",
            "Epoch 10/100\n",
            "12/12 [==============================] - 0s 2ms/step - loss: 0.2403 - accuracy: 0.9035\n",
            "Epoch 11/100\n",
            "12/12 [==============================] - 0s 3ms/step - loss: 0.2063 - accuracy: 0.9035\n",
            "Epoch 12/100\n",
            "12/12 [==============================] - 0s 2ms/step - loss: 0.1796 - accuracy: 0.9123\n",
            "Epoch 13/100\n",
            "12/12 [==============================] - 0s 2ms/step - loss: 0.1603 - accuracy: 0.9211\n",
            "Epoch 14/100\n",
            "12/12 [==============================] - 0s 2ms/step - loss: 0.1438 - accuracy: 0.9386\n",
            "Epoch 15/100\n",
            "12/12 [==============================] - 0s 2ms/step - loss: 0.1306 - accuracy: 0.9474\n",
            "Epoch 16/100\n",
            "12/12 [==============================] - 0s 2ms/step - loss: 0.1191 - accuracy: 0.9649\n",
            "Epoch 17/100\n",
            "12/12 [==============================] - 0s 2ms/step - loss: 0.1088 - accuracy: 0.9649\n",
            "Epoch 18/100\n",
            "12/12 [==============================] - 0s 3ms/step - loss: 0.1001 - accuracy: 0.9649\n",
            "Epoch 19/100\n",
            "12/12 [==============================] - 0s 2ms/step - loss: 0.0924 - accuracy: 0.9737\n",
            "Epoch 20/100\n",
            "12/12 [==============================] - 0s 2ms/step - loss: 0.0857 - accuracy: 0.9825\n",
            "Epoch 21/100\n",
            "12/12 [==============================] - 0s 2ms/step - loss: 0.0792 - accuracy: 0.9825\n",
            "Epoch 22/100\n",
            "12/12 [==============================] - 0s 2ms/step - loss: 0.0732 - accuracy: 0.9825\n",
            "Epoch 23/100\n",
            "12/12 [==============================] - 0s 2ms/step - loss: 0.0677 - accuracy: 0.9825\n",
            "Epoch 24/100\n",
            "12/12 [==============================] - 0s 2ms/step - loss: 0.0634 - accuracy: 0.9825\n",
            "Epoch 25/100\n",
            "12/12 [==============================] - 0s 2ms/step - loss: 0.0591 - accuracy: 0.9825\n",
            "Epoch 26/100\n",
            "12/12 [==============================] - 0s 2ms/step - loss: 0.0558 - accuracy: 0.9825\n",
            "Epoch 27/100\n",
            "12/12 [==============================] - 0s 2ms/step - loss: 0.0526 - accuracy: 0.9825\n",
            "Epoch 28/100\n",
            "12/12 [==============================] - 0s 2ms/step - loss: 0.0498 - accuracy: 0.9825\n",
            "Epoch 29/100\n",
            "12/12 [==============================] - 0s 2ms/step - loss: 0.0467 - accuracy: 0.9825\n",
            "Epoch 30/100\n",
            "12/12 [==============================] - 0s 3ms/step - loss: 0.0442 - accuracy: 0.9912\n",
            "Epoch 31/100\n",
            "12/12 [==============================] - 0s 2ms/step - loss: 0.0418 - accuracy: 0.9912\n",
            "Epoch 32/100\n",
            "12/12 [==============================] - 0s 2ms/step - loss: 0.0397 - accuracy: 0.9912\n",
            "Epoch 33/100\n",
            "12/12 [==============================] - 0s 2ms/step - loss: 0.0376 - accuracy: 0.9912\n",
            "Epoch 34/100\n",
            "12/12 [==============================] - 0s 2ms/step - loss: 0.0360 - accuracy: 0.9912\n",
            "Epoch 35/100\n",
            "12/12 [==============================] - 0s 2ms/step - loss: 0.0338 - accuracy: 0.9912\n",
            "Epoch 36/100\n",
            "12/12 [==============================] - 0s 2ms/step - loss: 0.0321 - accuracy: 0.9912\n",
            "Epoch 37/100\n",
            "12/12 [==============================] - 0s 2ms/step - loss: 0.0307 - accuracy: 0.9912\n",
            "Epoch 38/100\n",
            "12/12 [==============================] - 0s 2ms/step - loss: 0.0297 - accuracy: 0.9912\n",
            "Epoch 39/100\n",
            "12/12 [==============================] - 0s 2ms/step - loss: 0.0279 - accuracy: 0.9912\n",
            "Epoch 40/100\n",
            "12/12 [==============================] - 0s 2ms/step - loss: 0.0269 - accuracy: 0.9912\n",
            "Epoch 41/100\n",
            "12/12 [==============================] - 0s 2ms/step - loss: 0.0258 - accuracy: 0.9912\n",
            "Epoch 42/100\n",
            "12/12 [==============================] - 0s 3ms/step - loss: 0.0246 - accuracy: 0.9912\n",
            "Epoch 43/100\n",
            "12/12 [==============================] - 0s 2ms/step - loss: 0.0234 - accuracy: 0.9912\n",
            "Epoch 44/100\n",
            "12/12 [==============================] - 0s 2ms/step - loss: 0.0227 - accuracy: 0.9912\n",
            "Epoch 45/100\n",
            "12/12 [==============================] - 0s 2ms/step - loss: 0.0217 - accuracy: 0.9912\n",
            "Epoch 46/100\n",
            "12/12 [==============================] - 0s 2ms/step - loss: 0.0210 - accuracy: 0.9912\n",
            "Epoch 47/100\n",
            "12/12 [==============================] - 0s 2ms/step - loss: 0.0201 - accuracy: 0.9912\n",
            "Epoch 48/100\n",
            "12/12 [==============================] - 0s 2ms/step - loss: 0.0193 - accuracy: 0.9912\n",
            "Epoch 49/100\n",
            "12/12 [==============================] - 0s 2ms/step - loss: 0.0186 - accuracy: 0.9912\n",
            "Epoch 50/100\n",
            "12/12 [==============================] - 0s 2ms/step - loss: 0.0179 - accuracy: 0.9912\n",
            "Epoch 51/100\n",
            "12/12 [==============================] - 0s 3ms/step - loss: 0.0173 - accuracy: 0.9912\n",
            "Epoch 52/100\n",
            "12/12 [==============================] - 0s 2ms/step - loss: 0.0169 - accuracy: 0.9912\n",
            "Epoch 53/100\n",
            "12/12 [==============================] - 0s 2ms/step - loss: 0.0161 - accuracy: 0.9912\n",
            "Epoch 54/100\n",
            "12/12 [==============================] - 0s 2ms/step - loss: 0.0157 - accuracy: 0.9912\n",
            "Epoch 55/100\n",
            "12/12 [==============================] - 0s 3ms/step - loss: 0.0152 - accuracy: 0.9912\n",
            "Epoch 56/100\n",
            "12/12 [==============================] - 0s 2ms/step - loss: 0.0144 - accuracy: 0.9912\n",
            "Epoch 57/100\n",
            "12/12 [==============================] - 0s 2ms/step - loss: 0.0138 - accuracy: 0.9912\n",
            "Epoch 58/100\n",
            "12/12 [==============================] - 0s 2ms/step - loss: 0.0130 - accuracy: 0.9912\n",
            "Epoch 59/100\n",
            "12/12 [==============================] - 0s 2ms/step - loss: 0.0121 - accuracy: 1.0000\n",
            "Epoch 60/100\n",
            "12/12 [==============================] - 0s 2ms/step - loss: 0.0115 - accuracy: 1.0000\n",
            "Epoch 61/100\n",
            "12/12 [==============================] - 0s 2ms/step - loss: 0.0111 - accuracy: 1.0000\n",
            "Epoch 62/100\n",
            "12/12 [==============================] - 0s 2ms/step - loss: 0.0104 - accuracy: 1.0000\n",
            "Epoch 63/100\n",
            "12/12 [==============================] - 0s 3ms/step - loss: 0.0097 - accuracy: 1.0000\n",
            "Epoch 64/100\n",
            "12/12 [==============================] - 0s 2ms/step - loss: 0.0094 - accuracy: 1.0000\n",
            "Epoch 65/100\n",
            "12/12 [==============================] - 0s 2ms/step - loss: 0.0087 - accuracy: 1.0000\n",
            "Epoch 66/100\n",
            "12/12 [==============================] - 0s 2ms/step - loss: 0.0084 - accuracy: 1.0000\n",
            "Epoch 67/100\n",
            "12/12 [==============================] - 0s 2ms/step - loss: 0.0078 - accuracy: 1.0000\n",
            "Epoch 68/100\n",
            "12/12 [==============================] - 0s 2ms/step - loss: 0.0075 - accuracy: 1.0000\n",
            "Epoch 69/100\n",
            "12/12 [==============================] - 0s 2ms/step - loss: 0.0071 - accuracy: 1.0000\n",
            "Epoch 70/100\n",
            "12/12 [==============================] - 0s 2ms/step - loss: 0.0067 - accuracy: 1.0000\n",
            "Epoch 71/100\n",
            "12/12 [==============================] - 0s 2ms/step - loss: 0.0064 - accuracy: 1.0000\n",
            "Epoch 72/100\n",
            "12/12 [==============================] - 0s 2ms/step - loss: 0.0061 - accuracy: 1.0000\n",
            "Epoch 73/100\n",
            "12/12 [==============================] - 0s 3ms/step - loss: 0.0058 - accuracy: 1.0000\n",
            "Epoch 74/100\n",
            "12/12 [==============================] - 0s 3ms/step - loss: 0.0056 - accuracy: 1.0000\n",
            "Epoch 75/100\n",
            "12/12 [==============================] - 0s 2ms/step - loss: 0.0053 - accuracy: 1.0000\n",
            "Epoch 76/100\n",
            "12/12 [==============================] - 0s 2ms/step - loss: 0.0051 - accuracy: 1.0000\n",
            "Epoch 77/100\n",
            "12/12 [==============================] - 0s 2ms/step - loss: 0.0050 - accuracy: 1.0000\n",
            "Epoch 78/100\n",
            "12/12 [==============================] - 0s 2ms/step - loss: 0.0047 - accuracy: 1.0000\n",
            "Epoch 79/100\n",
            "12/12 [==============================] - 0s 2ms/step - loss: 0.0046 - accuracy: 1.0000\n",
            "Epoch 80/100\n",
            "12/12 [==============================] - 0s 2ms/step - loss: 0.0043 - accuracy: 1.0000\n",
            "Epoch 81/100\n",
            "12/12 [==============================] - 0s 3ms/step - loss: 0.0042 - accuracy: 1.0000\n",
            "Epoch 82/100\n",
            "12/12 [==============================] - 0s 2ms/step - loss: 0.0040 - accuracy: 1.0000\n",
            "Epoch 83/100\n",
            "12/12 [==============================] - 0s 2ms/step - loss: 0.0039 - accuracy: 1.0000\n",
            "Epoch 84/100\n",
            "12/12 [==============================] - 0s 2ms/step - loss: 0.0037 - accuracy: 1.0000\n",
            "Epoch 85/100\n",
            "12/12 [==============================] - 0s 2ms/step - loss: 0.0037 - accuracy: 1.0000\n",
            "Epoch 86/100\n",
            "12/12 [==============================] - 0s 2ms/step - loss: 0.0035 - accuracy: 1.0000\n",
            "Epoch 87/100\n",
            "12/12 [==============================] - 0s 2ms/step - loss: 0.0033 - accuracy: 1.0000\n",
            "Epoch 88/100\n",
            "12/12 [==============================] - 0s 2ms/step - loss: 0.0032 - accuracy: 1.0000\n",
            "Epoch 89/100\n",
            "12/12 [==============================] - 0s 2ms/step - loss: 0.0030 - accuracy: 1.0000\n",
            "Epoch 90/100\n",
            "12/12 [==============================] - 0s 2ms/step - loss: 0.0029 - accuracy: 1.0000\n",
            "Epoch 91/100\n",
            "12/12 [==============================] - 0s 2ms/step - loss: 0.0028 - accuracy: 1.0000\n",
            "Epoch 92/100\n",
            "12/12 [==============================] - 0s 2ms/step - loss: 0.0027 - accuracy: 1.0000\n",
            "Epoch 93/100\n",
            "12/12 [==============================] - 0s 2ms/step - loss: 0.0026 - accuracy: 1.0000\n",
            "Epoch 94/100\n",
            "12/12 [==============================] - 0s 2ms/step - loss: 0.0025 - accuracy: 1.0000\n",
            "Epoch 95/100\n",
            "12/12 [==============================] - 0s 2ms/step - loss: 0.0024 - accuracy: 1.0000\n",
            "Epoch 96/100\n",
            "12/12 [==============================] - 0s 2ms/step - loss: 0.0023 - accuracy: 1.0000\n",
            "Epoch 97/100\n",
            "12/12 [==============================] - 0s 2ms/step - loss: 0.0023 - accuracy: 1.0000\n",
            "Epoch 98/100\n",
            "12/12 [==============================] - 0s 3ms/step - loss: 0.0022 - accuracy: 1.0000\n",
            "Epoch 99/100\n",
            "12/12 [==============================] - 0s 2ms/step - loss: 0.0021 - accuracy: 1.0000\n",
            "Epoch 100/100\n",
            "12/12 [==============================] - 0s 2ms/step - loss: 0.0021 - accuracy: 1.0000\n"
          ]
        },
        {
          "output_type": "execute_result",
          "data": {
            "text/plain": [
              "<keras.callbacks.History at 0x7fbf93f92790>"
            ]
          },
          "metadata": {},
          "execution_count": 59
        }
      ]
    },
    {
      "cell_type": "code",
      "metadata": {
        "id": "LSYJFE8aQjVd"
      },
      "source": [
        "s_pred  = classifier.predict(r_test)\n",
        "s_pred = (s_pred>0.5)"
      ],
      "execution_count": null,
      "outputs": []
    },
    {
      "cell_type": "code",
      "metadata": {
        "colab": {
          "base_uri": "https://localhost:8080/"
        },
        "id": "xFe5QhK6QvuB",
        "outputId": "cf4c2dfd-c1a7-49ad-ac03-1d7f0e0495c5"
      },
      "source": [
        "s_test"
      ],
      "execution_count": null,
      "outputs": [
        {
          "output_type": "execute_result",
          "data": {
            "text/plain": [
              "array([1, 0, 0, 0, 0, 0, 0, 0, 0, 0, 0, 0, 0, 0, 0, 1, 0, 1, 1, 1, 1, 1,\n",
              "       0, 0, 1, 0, 0, 1, 0, 1, 0, 1, 0, 1, 0, 1, 0, 1, 0, 1, 1, 0, 1, 0,\n",
              "       0, 1, 0, 0, 0, 1, 1, 1, 1, 0, 0, 0, 0, 0, 0, 1, 1, 1, 0, 0, 1, 0,\n",
              "       1, 1, 1, 0, 0, 1, 0, 1, 1, 0, 0, 0, 0, 0, 1, 1, 1, 0, 1, 0, 0, 0,\n",
              "       1, 1, 0, 1, 0, 1, 0, 0, 1, 0, 0, 0, 0, 0, 0, 0, 1, 0, 1, 0, 1, 1,\n",
              "       0, 1, 1, 0])"
            ]
          },
          "metadata": {},
          "execution_count": 61
        }
      ]
    },
    {
      "cell_type": "code",
      "metadata": {
        "colab": {
          "base_uri": "https://localhost:8080/"
        },
        "id": "VM_Jb2OkQrR9",
        "outputId": "cb492dfa-95dd-4c67-9743-0ca8d3f1fd23"
      },
      "source": [
        "s_pred"
      ],
      "execution_count": null,
      "outputs": [
        {
          "output_type": "execute_result",
          "data": {
            "text/plain": [
              "array([[ True],\n",
              "       [False],\n",
              "       [False],\n",
              "       [False],\n",
              "       [False],\n",
              "       [False],\n",
              "       [False],\n",
              "       [False],\n",
              "       [False],\n",
              "       [False],\n",
              "       [False],\n",
              "       [False],\n",
              "       [False],\n",
              "       [False],\n",
              "       [False],\n",
              "       [ True],\n",
              "       [False],\n",
              "       [ True],\n",
              "       [ True],\n",
              "       [ True],\n",
              "       [ True],\n",
              "       [ True],\n",
              "       [False],\n",
              "       [False],\n",
              "       [ True],\n",
              "       [False],\n",
              "       [False],\n",
              "       [ True],\n",
              "       [False],\n",
              "       [ True],\n",
              "       [False],\n",
              "       [ True],\n",
              "       [False],\n",
              "       [ True],\n",
              "       [False],\n",
              "       [ True],\n",
              "       [False],\n",
              "       [ True],\n",
              "       [False],\n",
              "       [ True],\n",
              "       [ True],\n",
              "       [False],\n",
              "       [ True],\n",
              "       [False],\n",
              "       [False],\n",
              "       [ True],\n",
              "       [False],\n",
              "       [False],\n",
              "       [False],\n",
              "       [ True],\n",
              "       [ True],\n",
              "       [ True],\n",
              "       [ True],\n",
              "       [False],\n",
              "       [False],\n",
              "       [False],\n",
              "       [False],\n",
              "       [False],\n",
              "       [False],\n",
              "       [ True],\n",
              "       [ True],\n",
              "       [ True],\n",
              "       [False],\n",
              "       [False],\n",
              "       [ True],\n",
              "       [False],\n",
              "       [ True],\n",
              "       [ True],\n",
              "       [ True],\n",
              "       [False],\n",
              "       [False],\n",
              "       [ True],\n",
              "       [False],\n",
              "       [ True],\n",
              "       [ True],\n",
              "       [False],\n",
              "       [False],\n",
              "       [False],\n",
              "       [False],\n",
              "       [False],\n",
              "       [ True],\n",
              "       [ True],\n",
              "       [ True],\n",
              "       [False],\n",
              "       [ True],\n",
              "       [False],\n",
              "       [False],\n",
              "       [False],\n",
              "       [ True],\n",
              "       [ True],\n",
              "       [False],\n",
              "       [ True],\n",
              "       [False],\n",
              "       [ True],\n",
              "       [False],\n",
              "       [False],\n",
              "       [ True],\n",
              "       [False],\n",
              "       [False],\n",
              "       [False],\n",
              "       [False],\n",
              "       [False],\n",
              "       [False],\n",
              "       [False],\n",
              "       [ True],\n",
              "       [False],\n",
              "       [ True],\n",
              "       [False],\n",
              "       [ True],\n",
              "       [ True],\n",
              "       [False],\n",
              "       [ True],\n",
              "       [ True],\n",
              "       [False]])"
            ]
          },
          "metadata": {},
          "execution_count": 62
        }
      ]
    },
    {
      "cell_type": "code",
      "metadata": {
        "colab": {
          "base_uri": "https://localhost:8080/"
        },
        "id": "z4PLaHqcQlP1",
        "outputId": "a4b7d174-7419-4371-fb9e-969a135c9e0a"
      },
      "source": [
        "from sklearn.metrics import confusion_matrix\n",
        "cm = confusion_matrix(s_test, s_pred)\n",
        "cm"
      ],
      "execution_count": null,
      "outputs": [
        {
          "output_type": "execute_result",
          "data": {
            "text/plain": [
              "array([[67,  0],\n",
              "       [ 0, 47]])"
            ]
          },
          "metadata": {},
          "execution_count": 63
        }
      ]
    },
    {
      "cell_type": "markdown",
      "metadata": {
        "id": "WmNavZLDGdz0"
      },
      "source": [
        "--------------------------------------------------------------------------------\n",
        "--------------------------------------------------------------------------------\n",
        "--------------------------------------------------------------------------------"
      ]
    }
  ]
}